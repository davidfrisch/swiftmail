{
 "cells": [
  {
   "cell_type": "code",
   "execution_count": 1,
   "metadata": {},
   "outputs": [],
   "source": [
    "import csv\n",
    "import sys\n",
    "import os\n",
    "\n",
    "hallucination_single = None\n",
    "hallucination_multi = None\n",
    "likert_single = None\n",
    "likert_multi = None\n",
    "\n",
    "with open(\"./HumanEvaluations_MVP(Hallu-multi).csv\") as f:\n",
    "    hallucination_multi = list(csv.DictReader(f))\n",
    "with open(\"./HumanEvaluations_MVP(Hallu-single).csv\") as f:\n",
    "    hallucination_single = list(csv.DictReader(f))\n",
    "with open(\"./HumanEvaluations_MVP(Likert-multi).csv\") as f:\n",
    "    likert_multi = list(csv.DictReader(f))\n",
    "with open(\"./HumanEvaluations_MVP(Likert-single).csv\") as f:\n",
    "    likert_single = list(csv.DictReader(f))\n",
    "    \n",
    "\n"
   ]
  },
  {
   "cell_type": "markdown",
   "metadata": {},
   "source": [
    "# Kendall's tau"
   ]
  },
  {
   "cell_type": "code",
   "execution_count": 15,
   "metadata": {},
   "outputs": [
    {
     "name": "stdout",
     "output_type": "stream",
     "text": [
      "Hallucination Single:  SignificanceResult(statistic=-0.10087125544480041, pvalue=0.5287333251214301)\n",
      "Hallucination Multi:  SignificanceResult(statistic=0.15695698526580626, pvalue=0.32698934959801507)\n",
      "Likert Single:  SignificanceResult(statistic=-0.08154300884710915, pvalue=0.5678480338542742)\n",
      "Likert Multi:  SignificanceResult(statistic=0.1547421119336494, pvalue=0.2799771582931402)\n"
     ]
    }
   ],
   "source": [
    "from scipy.stats import kendalltau\n",
    "\n",
    "def get_correlation(data):\n",
    "    #{'human': '0', 'Swiftmail': '0'}\n",
    "    human = []\n",
    "    swiftmail = []\n",
    "    for row in data:\n",
    "        human.append(row['human'])\n",
    "        swiftmail.append(row['Swiftmail'])\n",
    "        \n",
    "        \n",
    "    assert len(human) == len(swiftmail)    \n",
    "    return kendalltau(human, swiftmail)\n",
    "  \n",
    "kendalltau_hallu_single = get_correlation(hallucination_single)\n",
    "kendalltau_hallu_multi = get_correlation(hallucination_multi)\n",
    "kendalltau_likert_single = get_correlation(likert_single)\n",
    "kendalltau_likert_multi = get_correlation(likert_multi)\n",
    "\n",
    "print(\"Hallucination Single: \", kendalltau_hallu_single)\n",
    "print(\"Hallucination Multi: \", kendalltau_hallu_multi)\n",
    "print(\"Likert Single: \", kendalltau_likert_single)\n",
    "print(\"Likert Multi: \", kendalltau_likert_multi)"
   ]
  },
  {
   "cell_type": "markdown",
   "metadata": {},
   "source": [
    "# Spearman's"
   ]
  },
  {
   "cell_type": "code",
   "execution_count": 14,
   "metadata": {},
   "outputs": [
    {
     "name": "stdout",
     "output_type": "stream",
     "text": [
      "----------------------------------------------------------------------------------------------------\n",
      "Hallucination Single:  SignificanceResult(statistic=-0.1008712554448004, pvalue=0.5357063558617989)\n",
      "Hallucination Multi:  SignificanceResult(statistic=0.15695698526580623, pvalue=0.3334352272227161)\n",
      "Likert Single:  SignificanceResult(statistic=-0.09072281584058729, pvalue=0.5777070754323923)\n",
      "Likert Multi:  SignificanceResult(statistic=0.16609978705005232, pvalue=0.30567795624417005)\n",
      "----------------------------------------------------------------------------------------------------\n"
     ]
    }
   ],
   "source": [
    "from scipy.stats import spearmanr\n",
    "\n",
    "def get_correlation(data):\n",
    "    #{'human': '0', 'Swiftmail': '0'}\n",
    "    human = []\n",
    "    swiftmail = []\n",
    "    for row in data:\n",
    "        human.append(row['human'])\n",
    "        swiftmail.append(row['Swiftmail'])\n",
    "        \n",
    "        \n",
    "    assert len(human) == len(swiftmail)    \n",
    "    return spearmanr(human, swiftmail)\n",
    "  \n",
    "spearmans_correlation_hallucination_single = get_correlation(hallucination_single)\n",
    "spearmans_correlation_hallucination_multi = get_correlation(hallucination_multi)\n",
    "spearmans_correlation_likert_single = get_correlation(likert_single)\n",
    "spearmans_correlation_likert_multi = get_correlation(likert_multi)"
   ]
  },
  {
   "cell_type": "markdown",
   "metadata": {},
   "source": [
    "# Cohen's kappa"
   ]
  },
  {
   "cell_type": "code",
   "execution_count": 3,
   "metadata": {},
   "outputs": [
    {
     "name": "stdout",
     "output_type": "stream",
     "text": [
      "Hallucination Single:  -0.0847457627118644\n",
      "Hallucination Multi:  0.13907284768211925\n",
      "Likert Single:  -0.06712564543889865\n",
      "Likert Multi:  0.07883082373782113\n"
     ]
    }
   ],
   "source": [
    "# Cohens Kappa\n",
    "from sklearn.metrics import cohen_kappa_score\n",
    "\n",
    "def get_correlation(data):\n",
    "    #{'human': '0', 'Swiftmail': '0'}\n",
    "    human = []\n",
    "    swiftmail = []\n",
    "    for row in data:\n",
    "        human.append(row['human'])\n",
    "        swiftmail.append(row['Swiftmail'])\n",
    "        \n",
    "        \n",
    "    assert len(human) == len(swiftmail)    \n",
    "    return cohen_kappa_score(human, swiftmail)\n",
    "  \n",
    "cohen_kappa_hallucination_single = get_correlation(hallucination_single)\n",
    "cohen_kappa_hallucination_multi = get_correlation(hallucination_multi)\n",
    "cohen_kappa_likert_single = get_correlation(likert_single)\n",
    "cohen_kappa_likert_multi = get_correlation(likert_multi)\n",
    "\n",
    "print(\"Hallucination Single: \", cohen_kappa_hallucination_single)\n",
    "print(\"Hallucination Multi: \", cohen_kappa_hallucination_multi)\n",
    "print(\"Likert Single: \", cohen_kappa_likert_single)\n",
    "print(\"Likert Multi: \", cohen_kappa_likert_multi)"
   ]
  },
  {
   "cell_type": "markdown",
   "metadata": {},
   "source": [
    "Systematic Disagreement: If one rater consistently rates higher or lower than the other, the Kappa score can be negative. For example, if the human rater tends to give scores of 4 or 5, while the AI tends to give scores of 1 or 2, this systematic difference can lead to a negative Kappa."
   ]
  }
 ],
 "metadata": {
  "kernelspec": {
   "display_name": "venv",
   "language": "python",
   "name": "python3"
  },
  "language_info": {
   "codemirror_mode": {
    "name": "ipython",
    "version": 3
   },
   "file_extension": ".py",
   "mimetype": "text/x-python",
   "name": "python",
   "nbconvert_exporter": "python",
   "pygments_lexer": "ipython3",
   "version": "3.12.3"
  }
 },
 "nbformat": 4,
 "nbformat_minor": 2
}
