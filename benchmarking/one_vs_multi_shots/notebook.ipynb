{
 "cells": [
  {
   "cell_type": "markdown",
   "metadata": {},
   "source": [
    "## Goal\n",
    "We want to explore how better is the performance of the system of generating a draft with a multiple step process rather than a single step process"
   ]
  },
  {
   "cell_type": "markdown",
   "metadata": {},
   "source": [
    "### Initial Variables"
   ]
  },
  {
   "cell_type": "code",
   "execution_count": 1,
   "metadata": {},
   "outputs": [
    {
     "name": "stdout",
     "output_type": "stream",
     "text": [
      "Performing health check on http://localhost:11434\n",
      "Ollama is running\n",
      "Health check passed\n"
     ]
    }
   ],
   "source": [
    "import sys \n",
    "import os\n",
    "import json_tricks as json\n",
    "import time\n",
    "from dotenv import load_dotenv\n",
    "load_dotenv('../../backend/.env')\n",
    "sys.path.append(\"../../\")\n",
    "from backend.LLM.AnythingLLM_client import AnythingLLMClient\n",
    "from backend.Generater import Generater\n",
    "from backend.LLM.OllamaLLM import OllamaAI\n",
    "from backend.database.schemas import Email\n",
    "\n",
    "\n",
    "anyllm_client = AnythingLLMClient(\"http://localhost:3001/api\", \"3WMNAPZ-GYH4RBE-M67SR00-7Y7KYEF\")\n",
    "ollama_client = OllamaAI('http://localhost:11434', 'llama3:instruct')\n",
    "generator = Generater(ollama_client, anyllm_client)\n",
    "path_to_enquiry = \"../../dataset/fake_email_1.json\"\n",
    "with open(path_to_enquiry, \"r\") as f:\n",
    "    enquiry = json.load(f)\n",
    "\n",
    "enquiry_text = enquiry[\"email\"]\n",
    "subject = enquiry_text.split(\"\\n\\n\")[0]\n",
    "body = '\\n'.join(enquiry_text.split(\"\\n\\n\")[1:])"
   ]
  },
  {
   "cell_type": "markdown",
   "metadata": {},
   "source": [
    "### Single Step Process"
   ]
  },
  {
   "cell_type": "code",
   "execution_count": 2,
   "metadata": {},
   "outputs": [],
   "source": [
    "\n",
    "def single_shot_prompt(email: Email):\n",
    "    prompt = f\"\"\" You are David Frischer, the program administrator for the UCL Software Engineering program.\n",
    "            You have received the following enquiry from a student:\n",
    "            Subject: {email.subject}\n",
    "            Body: {email.body}\n",
    "            \n",
    "           \n",
    "            Draft a response to the student's email.\n",
    "            \"\"\"\n",
    "    workspace_slug =  anyllm_client.get_workspace_slug(\"General\")\n",
    "    thread = anyllm_client.new_thread(workspace_slug, \"tmp-thread\")\n",
    "    thread_slug = thread[\"slug\"]\n",
    "    start_time = time.time()\n",
    "    response = anyllm_client.chat_with_thread(workspace_slug, thread_slug, prompt)\n",
    "    total_time = time.time() - start_time\n",
    "    anyllm_client.delete_thread(workspace_slug, thread_slug)\n",
    "    return response, total_time"
   ]
  },
  {
   "cell_type": "markdown",
   "metadata": {},
   "source": [
    "### Response format"
   ]
  },
  {
   "cell_type": "markdown",
   "metadata": {},
   "source": [
    "## Mutiple Step Process"
   ]
  },
  {
   "cell_type": "code",
   "execution_count": 3,
   "metadata": {},
   "outputs": [],
   "source": [
    "def multi_step_process(email:Email):\n",
    "    start_time = time.time()\n",
    "    response = generator.single_run_reply_to_email(email)\n",
    "    response_time = time.time() - start_time\n",
    "    \n",
    "    return response, response_time\n",
    "    "
   ]
  },
  {
   "cell_type": "markdown",
   "metadata": {},
   "source": [
    "## Generate for multiple drafts"
   ]
  },
  {
   "cell_type": "code",
   "execution_count": 5,
   "metadata": {},
   "outputs": [
    {
     "name": "stdout",
     "output_type": "stream",
     "text": [
      "Already processed fake_email_10.json\n",
      "Already processed fake_email_undergrad_13.json\n",
      "Already processed fake_email_undergrad_6.json\n",
      "Already processed fake_email_3.json\n",
      "Already processed fake_email_2.json\n",
      "Already processed fake_email_undergrad_7.json\n",
      "Already processed fake_email_undergrad_12.json\n",
      "Already processed fake_email_11.json\n",
      "Already processed fake_email_undergrad_0.json\n",
      "Already processed fake_email_undergrad_19.json\n",
      "Already processed fake_email_5.json\n",
      "Already processed fake_email_16.json\n",
      "Already processed fake_email_undergrad_15.json\n",
      "Already processed fake_email_9.json\n",
      "Already processed fake_email_8.json\n",
      "Already processed fake_email_undergrad_14.json\n",
      "Already processed fake_email_17.json\n",
      "Skipping __pycache__\n",
      "Already processed fake_email_4.json\n",
      "Already processed fake_email_undergrad_18.json\n",
      "Already processed fake_email_undergrad_1.json\n",
      "Already processed fake_email_7.json\n",
      "Skipping bank_questions.py\n",
      "Already processed fake_email_undergrad_2.json\n",
      "Already processed fake_email_18.json\n",
      "Processing fake_email_undergrad_17.json\n",
      "Creating new thread with name: tmp-thread in workspace: general\n"
     ]
    },
    {
     "name": "stderr",
     "output_type": "stream",
     "text": [
      "[ERROR] Expecting value: line 1 column 1 (char 0)\n",
      "[ERROR] Expecting value: line 1 column 1 (char 0)\n"
     ]
    },
    {
     "name": "stdout",
     "output_type": "stream",
     "text": [
      "Creating new thread with name: new_thread in workspace: general\n",
      "Total Sim Distance: 0.3227524310350418\n",
      "Total Sim Distance: 0.3550126403570175\n",
      "['Question: Could you please let me know when I can expect to receive a decision on my application?\\nAnswer: According to the provided contexts from University College London\\'s website, it seems that the university uses a \"gathered field\" approach in assessing applications. This means they need to wait until they have enough comparable applications to make a final decision.\\n\\nAs mentioned in Context 0 and Context 1, the university aims to make decisions by the end of April but are working hard to send decisions sooner. It\\'s also stated that it may take some time before they can give you a final decision due to the large number of well-qualified applicants.\\n\\nIn your case, since you\\'ve just submitted your application for the undergraduate program in Computer Science, I would advise waiting until the university has processed enough comparable applications to make a decision. It\\'s likely that you\\'ll receive a decision by the end of April or possibly sooner.\\n\\nHere\\'s an answer based on the provided information:\\n\\n\"Dear [Applicant],\\n\\nThank you for your interest in the undergraduate program in Computer Science at University College London. I understand your enthusiasm and eagerness to know when you can expect to receive a decision on your application.\\n\\nAs mentioned on our website, we use a \\'gathered field\\' approach in assessing applications, which means we need to wait until we have enough comparable applications to make a final decision. Our aim is to make decisions by the end of April, but we\\'re working hard to send decisions sooner.\\n\\nPlease be assured that you\\'ll receive an update on your application as soon as possible. I appreciate your patience and understanding during this time. If you have any further questions or concerns, please don\\'t hesitate to reach out.\\n\\nBest regards,\\n[Your Name]\"\\n\\nFeel free to modify the response according to your tone and style! \\n-------\\n', 'Question: I would appreciate any guidance you can provide on the next steps and timeline for my application.\\nAnswer: Based on the provided contexts from University College London\\'s website, here\\'s an answer that addresses your question:\\n\\n\"Dear [Applicant],\\n\\nThank you for your interest in the undergraduate program in Computer Science at University College London! I\\'m happy to help you with guidance on the next steps and timeline for your application.\\n\\nAs mentioned on our website, we use a \\'gathered field\\' approach in assessing applications. This means that we need to wait until we have enough comparable applications to make a final decision. Our aim is to make decisions by the end of April, but we\\'re working hard to send decisions sooner.\\n\\nIn the meantime, please be assured that our Admissions team will review your application carefully and process it as quickly as possible. We appreciate your patience during this time.\\n\\nIf there\\'s any additional information required to support your application, you can rest assured that we\\'ll contact you by email and ask you to upload it securely to Portico (UCL\\'s applicant portal).\\n\\nI recommend keeping an eye on your email inbox for updates from our team. You can also register interest in your chosen subject to receive notice of undergraduate open days, events, and more.\\n\\nThank you again for your enthusiasm about studying Computer Science at UCL! We\\'ll be in touch soon with an update on your application.\\n\\nBest regards,\\n[Your Name]\"\\n\\nFeel free to modify the response according to your tone and style! \\n-------\\n']\n"
     ]
    },
    {
     "name": "stderr",
     "output_type": "stream",
     "text": [
      "[ERROR] Expecting value: line 1 column 1 (char 0)\n",
      "[ERROR] Expecting value: line 1 column 1 (char 0)\n"
     ]
    },
    {
     "name": "stdout",
     "output_type": "stream",
     "text": [
      "Processing fake_email_14.json\n",
      "Creating new thread with name: tmp-thread in workspace: general\n"
     ]
    },
    {
     "name": "stderr",
     "output_type": "stream",
     "text": [
      "[ERROR] Expecting value: line 1 column 1 (char 0)\n",
      "[ERROR] Expecting value: line 1 column 1 (char 0)\n"
     ]
    },
    {
     "name": "stdout",
     "output_type": "stream",
     "text": [
      "Creating new thread with name: new_thread in workspace: general\n",
      "Total Sim Distance: 0.3602749705314636\n",
      "['Question: Could you please guide me on how to formally withdraw from the programme and the potential implications on any financial commitments or scholarships that may be involved? If there are any specific procedures or documentation required in this situation, kindly inform me so that I can take the necessary steps.\\nAnswer: Dear John Doe,\\n\\nThank you for your email and congratulations again on being offered a place on the MSc Software Engineering programme at UCL!\\n\\nRegarding your query about formally withdrawing from the programme, please note that UCL has a formal withdrawal process in place. If you are no longer able to attend the programme due to unforeseen circumstances, we recommend that you follow these steps:\\n\\n1. Contact us: Reach out to our Admissions Team via email (admissions@ucl.ac.uk) or phone (+44(0)20 3108 2222) to notify us of your decision to withdraw.\\n2. Submit a formal withdrawal request: You will need to submit a written request, stating the reason for your withdrawal and confirming that you wish to formally leave the programme.\\n3. Complete any outstanding administrative tasks: If there are any outstanding tasks or procedures related to your admission, such as completing online modules or returning equipment, please ensure these are completed before withdrawing.\\n\\nRegarding potential implications on financial commitments or scholarships, we will work with you to determine the best course of action. Please note that:\\n\\n* Any tuition fees paid will not be refunded.\\n* If you have received a scholarship, the terms and conditions of the award may require you to return any funds already received.\\n* You should also notify your bank or relevant financial institution about any changes to your status.\\n\\nTo facilitate this process, please provide us with the following documentation:\\n\\n1. A written withdrawal request (as mentioned in step 2 above).\\n2. Any relevant supporting documents (e.g., proof of unforeseen circumstances).\\n\\nOnce we receive these documents and have processed your withdrawal, you will be notified of any further steps required.\\n\\nPlease feel free to contact our Admissions Team if you require guidance or clarification on this process. We are committed to making the transition as smooth as possible for you.\\n\\nBest regards,\\n\\nUCL Admissions Team \\n-------\\n']\n"
     ]
    },
    {
     "name": "stderr",
     "output_type": "stream",
     "text": [
      "[ERROR] Expecting value: line 1 column 1 (char 0)\n",
      "[ERROR] Expecting value: line 1 column 1 (char 0)\n"
     ]
    },
    {
     "name": "stdout",
     "output_type": "stream",
     "text": [
      "Processing fake_email_15.json\n",
      "Creating new thread with name: tmp-thread in workspace: general\n"
     ]
    },
    {
     "name": "stderr",
     "output_type": "stream",
     "text": [
      "[ERROR] Expecting value: line 1 column 1 (char 0)\n",
      "[ERROR] Expecting value: line 1 column 1 (char 0)\n"
     ]
    },
    {
     "name": "stdout",
     "output_type": "stream",
     "text": [
      "Creating new thread with name: new_thread in workspace: general\n",
      "Total Sim Distance: 0.3554132580757141\n",
      "Total Sim Distance: 0.3600432723760605\n",
      "['Question: Could you please provide me with information on the appeal process, including any relevant deadlines or requirements that need to be met?\\nAnswer: Dear [Applicant],\\n\\nThank you for your email and for expressing interest in appealing the decision. Unfortunately, UCL does not offer an appeal process for graduate applications.\\n\\nHowever, if you would like to request feedback on your application, please note that we do not provide detailed reasons for rejection. The usual reasons for rejection may include:\\n\\n* The degree-level qualification(s) undertaken by the applicant is/are below, or projected to be below, the minimum entry requirement for the programme of study\\n* The degree-level qualification(s) undertaken by the applicant is/are not in a relevant subject for the programme of study applied for\\n* Entry to the programme of study is very competitive and the number of applications received exceeds the number of places available\\n* There is insufficient relevant work experience to compensate for not meeting the minimum academic entry requirement\\n* There is insufficient relevant professional experience (where this is required by the admitting department)\\n\\nIf you would like to request feedback, please contact the academic department directly. They may be able to provide you with further information.\\n\\nPlease note that application fees are non-refundable.\\n\\nBest regards,\\nUCL Admissions Team \\n-------\\n', \"Question: are there any specific regulations or restrictions I should be aware of?\\nAnswer: Dear [Applicant],\\n\\nThank you for your email and for expressing interest in attending classes while working part-time or full-time. As a graduate student at UCL, you will need to balance your studies with other commitments.\\n\\nRegarding work arrangements, please note that as a student, you are expected to commit sufficient time to your studies to achieve academic success. While some part-time work may be acceptable, excessive work hours can impact your ability to complete coursework and assignments on time.\\n\\nUCL's Student Regulations state that students are not permitted to work more than 10 hours per week during term time, unless otherwise approved by the Student Registry. Additionally, students are expected to maintain a minimum of 15 credits per semester, which may require a certain level of commitment and availability.\\n\\nIt is essential to consider your academic responsibilities when making decisions about part-time or full-time work. We recommend discussing any work arrangements with your department or supervisor before committing to any schedule.\\n\\nBest regards,\\nUCL Admissions Team \\n-------\\n\"]\n"
     ]
    },
    {
     "name": "stderr",
     "output_type": "stream",
     "text": [
      "[ERROR] Expecting value: line 1 column 1 (char 0)\n",
      "[ERROR] Expecting value: line 1 column 1 (char 0)\n"
     ]
    },
    {
     "name": "stdout",
     "output_type": "stream",
     "text": [
      "Processing fake_email_undergrad_16.json\n",
      "Creating new thread with name: tmp-thread in workspace: general\n"
     ]
    },
    {
     "name": "stderr",
     "output_type": "stream",
     "text": [
      "[ERROR] Expecting value: line 1 column 1 (char 0)\n",
      "[ERROR] Expecting value: line 1 column 1 (char 0)\n"
     ]
    },
    {
     "name": "stdout",
     "output_type": "stream",
     "text": [
      "Creating new thread with name: new_thread in workspace: general\n",
      "Total Sim Distance: 0.35660335421562195\n",
      "[\"Question: Before proceeding with my application, I had a few questions regarding the program structure. Specifically, I was wondering if UCL offers integrated foundation courses, also known as Year 0 entry, for students who do not meet the standard academic requirements for direct entry to the BSc Computer Science program?\\nAnswer: Dear Lewis,\\n\\nThank you for your interest in applying to the BSc Computer Science program at University College London (UCL). I'm happy to provide you with information on this matter and any other relevant details that might aid in your decision-making process.\\n\\nRegarding your question about integrated foundation courses, also known as Year 0 entry, UCL does offer an Engineering Foundation Year for students who do not meet the standard academic requirements for direct entry to our undergraduate programs. This program is designed for applicants who have studied at UK state schools and aspire to become engineers, but do not meet the standard entry requirements.\\n\\nPlease note that this program is aimed specifically at engineering students, so if you're interested in applying to the BSc Computer Science program, you would need to apply directly to that program. However, I can provide you with more information about the Engineering Foundation Year if you'd like to consider it as an option.\\n\\nIn terms of the standard academic requirements for direct entry to the BSc Computer Science program, please refer to our website or contact Undergraduate Admissions (as mentioned in Context 1) for further guidance. They may be able to provide you with more information on this matter.\\n\\nI hope this helps, and I wish you the best of luck with your application!\\n\\nBest regards,\\n[Your Name] \\n-------\\n\"]\n"
     ]
    },
    {
     "name": "stderr",
     "output_type": "stream",
     "text": [
      "[ERROR] Expecting value: line 1 column 1 (char 0)\n",
      "[ERROR] Expecting value: line 1 column 1 (char 0)\n"
     ]
    },
    {
     "name": "stdout",
     "output_type": "stream",
     "text": [
      "Processing fake_email_19.json\n",
      "Creating new thread with name: tmp-thread in workspace: general\n"
     ]
    },
    {
     "name": "stderr",
     "output_type": "stream",
     "text": [
      "[ERROR] Expecting value: line 1 column 1 (char 0)\n",
      "[ERROR] Expecting value: line 1 column 1 (char 0)\n"
     ]
    },
    {
     "name": "stdout",
     "output_type": "stream",
     "text": [
      "Creating new thread with name: new_thread in workspace: general\n",
      "Total Sim Distance: 0.3483031839132309\n",
      "Total Sim Distance: 0.33571983873844147\n",
      "Total Sim Distance: 0.3386693447828293\n",
      "[\"Question: Could you please inform me if it is possible to appeal against the decision made on my application?\\nAnswer: Dear John,\\n\\nThank you for your interest in pursuing the MSc program in Software Engineering at University College London (UCL). As per our Admissions policy, reasons for an unsuccessful application are not normally provided for graduate programmes. However, the usual reasons for rejection may include:\\n\\n* The degree-level qualification(s) undertaken by the applicant is/are below, or projected to be below, the minimum entry requirement for the programme of study.\\n* The degree-level qualification(s) undertaken by the applicant is/are not in a relevant subject for the programme of study applied for.\\n* Entry to the programme of study is very competitive and the number of applications received exceeds the number of places available.\\n* There is insufficient relevant work experience to compensate for not meeting the minimum academic entry requirement.\\n* There is insufficient relevant professional experience (where this is required by the admitting department).\\n\\nIf you would like to discuss your application further, please feel free to contact the academic department directly. They may be able to provide you with further feedback.\\n\\nRegarding your question about appealing against the decision made on your application, I'm afraid that under UCL Admissions policy, it is not possible to appeal against a decision. However, if you would like to request feedback on your application, please let us know and we will do our best to provide you with some general guidance.\\n\\nPlease note that whilst you can change your correspondence email address, the email address used to register your account with us will remain your log in username.\\n\\nBest regards,\\n[Your Name]\\nUCL Admissions Team \\n-------\\n\", 'Question: Assuming my application does proceed with a successful outcome in any future appeals or re-evaluations, could you please let me know when I would be able to request a Confirmation of Acceptance of Studies (CAS)?\\nAnswer: Dear John,\\n\\nThank you for your interest in pursuing the MSc program in Software Engineering at University College London (UCL). As per our Admissions policy, reasons for an unsuccessful application are not normally provided for graduate programmes. However, the usual reasons for rejection may include:\\n\\n* The degree-level qualification(s) undertaken by the applicant is/are below, or projected to be below, the minimum entry requirement for the programme of study.\\n* The degree-level qualification(s) undertaken by the applicant is/are not in a relevant subject for the programme of study applied for.\\n* Entry to the programme of study is very competitive and the number of applications received exceeds the number of places available.\\n* There is insufficient relevant work experience to compensate for not meeting the minimum academic entry requirement.\\n* There is insufficient relevant professional experience (where this is required by the admitting department).\\n\\nIf you would like to discuss your application further, please feel free to contact the academic department directly. They may be able to provide you with further feedback.\\n\\nRegarding your question about requesting a Confirmation of Acceptance of Studies (CAS), if your application is successful, we aim to send out CAS letters by the end of April. However, this may vary depending on the complexity of your application and our decision-making process. We will notify you as soon as possible once your CAS letter has been issued.\\n\\nPlease note that whilst you can change your correspondence email address, the email address used to register your account with us will remain your log in username.\\n\\nBest regards,\\n[Your Name]\\nUCL Admissions Team \\n-------\\n', 'Question: Is that possible? If so, could you please provide me with any relevant details or deadlines regarding the deferral process?\\nAnswer: Dear John,\\n\\nThank you for your interest in pursuing the MSc program in Software Engineering at University College London (UCL). As per our Admissions policy, reasons for an unsuccessful application are not normally provided for graduate programmes. However, the usual reasons for rejection may include:\\n\\n* The degree-level qualification(s) undertaken by the applicant is/are below, or projected to be below, the minimum entry requirement for the programme of study.\\n* The degree-level qualification(s) undertaken by the applicant is/are not in a relevant subject for the programme of study applied for.\\n* Entry to the programme of study is very competitive and the number of applications received exceeds the number of places available.\\n* There is insufficient relevant work experience to compensate for not meeting the minimum academic entry requirement.\\n* There is insufficient relevant professional experience (where this is required by the admitting department).\\n\\nIf you would like to discuss your application further, please feel free to contact the academic department directly. They may be able to provide you with further feedback.\\n\\nRegarding your question about deferring your application, yes, it is possible to defer your start date for a maximum of 12 months. If you wish to defer, please submit a written request to us at least 6 weeks prior to the original start date. Please note that deferrals are subject to availability and approval by the department.\\n\\nThe deadline to apply for deferral is typically around mid-June for September starters. However, this may vary depending on the programme you have applied for and our decision-making process. We will notify you as soon as possible once your request has been processed.\\n\\nPlease note that whilst you can change your correspondence email address, the email address used to register your account with us will remain your log in username.\\n\\nBest regards,\\n[Your Name]\\nUCL Admissions Team \\n-------\\n']\n"
     ]
    },
    {
     "name": "stderr",
     "output_type": "stream",
     "text": [
      "[ERROR] Expecting value: line 1 column 1 (char 0)\n",
      "[ERROR] Expecting value: line 1 column 1 (char 0)\n"
     ]
    },
    {
     "name": "stdout",
     "output_type": "stream",
     "text": [
      "Processing fake_email_undergrad_3.json\n",
      "Creating new thread with name: tmp-thread in workspace: general\n"
     ]
    },
    {
     "name": "stderr",
     "output_type": "stream",
     "text": [
      "[ERROR] Expecting value: line 1 column 1 (char 0)\n",
      "[ERROR] Expecting value: line 1 column 1 (char 0)\n"
     ]
    },
    {
     "name": "stdout",
     "output_type": "stream",
     "text": [
      "Creating new thread with name: new_thread in workspace: general\n",
      "Total Sim Distance: 0.269557848572731\n",
      "Total Sim Distance: 0.3257996141910553\n",
      "Total Sim Distance: 0.3105001002550125\n",
      "[\"Question: When can I expect to receive a decision on my fee status?\\nAnswer: Hello Lewis!\\n\\nThank you for reaching out to us with your query. As an international student applying for the BSc in Computer Science program at University College London (UCL), we're happy to help you with any questions or concerns.\\n\\nRegarding your question about when you can expect to receive a decision on your fee status, we aim to provide you with the outcome of your fee status assessment before you need to make your Firm and Insurance decisions. However, in some cases it may not be possible to do this if additional information is required from you to inform our decision.\\n\\nIf further information is needed, we'll email you a Fee Status Questionnaire for you to complete. We appreciate that waiting for a university decision can be an anxious time, but please be assured that we will communicate our decision to you as soon as we are able to.\\n\\nWe aim to make our decisions by the end of April, and we're working hard to send decisions sooner. Please keep in mind that it's quite usual for some applicants to hear sooner than others, but this doesn't mean that your application will be unsuccessful if you don't get a quick response from us.\\n\\nIf you have any further questions or concerns, please don't hesitate to reach out to us. We're here to help and look forward to welcoming you to UCL soon! \\n-------\\n\", \"Question: Could you please let me know the typical timeframe for receiving this information?\\nAnswer: Hello Lewis!\\n\\nThank you for reaching out to us with your query about making changes to the qualifications listed on your UCAS application after submission. We're happy to help.\\n\\nRegarding the timeframe for receiving a decision on your fee status, we aim to process applications as quickly as possible. After you have applied, UCL will request any missing information required to support an application, please do not send information that has not been requested. If we require any additional documents to process your application, we will contact you by email and ask you to upload them securely to Portico (UCL's applicant portal).\\n\\nInformation that is required for your application is detailed on the UCAS website and in our After You Apply guide.\\n\\nPlease be assured that we will communicate our decision to you as soon as we are able to. We aim to make our decisions by the end of April, but are working hard to send decisions sooner. Please keep in mind that it's quite usual for some applicants to hear sooner than others, but this doesn't mean that your application will be unsuccessful if you don't get a quick response from us.\\n\\nIf you have any further questions or concerns, please don't hesitate to reach out to us. We're here to help and look forward to welcoming you to UCL soon! \\n-------\\n\", \"Question: If I am awarded additional A-levels or other qualifications prior to the start of term, would it be possible for me to update my application? Or is there a specific deadline by which any amendments must be made?\\nAnswer: Hello Lewis!\\n\\nThank you for reaching out to us with your query about making changes to the qualifications listed on your UCAS application after submission. We're happy to help.\\n\\nRegarding updating your application, UCL may not accept qualifications added to your UCAS application form after it has been submitted. And as such, they may not be accepted for meeting offer conditions. This includes qualifications submitted either as an amendment or additional qualification.\\n\\nQualifications data submitted via UCAS must reflect your full academic history and the qualifications you are currently taking.\\n\\nPlease note that if you have any further information to provide, we will request this from you at a later stage in our decision-making process. If you have any concerns about providing information at that time, please don't hesitate to reach out to us.\\n\\nIf you have any further questions or concerns, please don't hesitate to reach out to us. We're here to help and look forward to welcoming you to UCL soon! \\n-------\\n\"]\n"
     ]
    },
    {
     "name": "stderr",
     "output_type": "stream",
     "text": [
      "[ERROR] Expecting value: line 1 column 1 (char 0)\n",
      "[ERROR] Expecting value: line 1 column 1 (char 0)\n"
     ]
    },
    {
     "name": "stdout",
     "output_type": "stream",
     "text": [
      "Processing fake_email_6.json\n",
      "Creating new thread with name: tmp-thread in workspace: general\n"
     ]
    },
    {
     "ename": "KeyboardInterrupt",
     "evalue": "",
     "output_type": "error",
     "traceback": [
      "\u001b[0;31m---------------------------------------------------------------------------\u001b[0m",
      "\u001b[0;31mKeyboardInterrupt\u001b[0m                         Traceback (most recent call last)",
      "Cell \u001b[0;32mIn[5], line 40\u001b[0m\n\u001b[1;32m     37\u001b[0m email \u001b[38;5;241m=\u001b[39m Email(subject\u001b[38;5;241m=\u001b[39msubject, body\u001b[38;5;241m=\u001b[39mbody, \u001b[38;5;28mid\u001b[39m\u001b[38;5;241m=\u001b[39mcounter)\n\u001b[1;32m     38\u001b[0m counter \u001b[38;5;241m+\u001b[39m\u001b[38;5;241m=\u001b[39m \u001b[38;5;241m1\u001b[39m\n\u001b[0;32m---> 40\u001b[0m response_single, response_time_single \u001b[38;5;241m=\u001b[39m \u001b[43msingle_shot_prompt\u001b[49m\u001b[43m(\u001b[49m\u001b[43memail\u001b[49m\u001b[43m)\u001b[49m\n\u001b[1;32m     41\u001b[0m response_multi, response_time_multi \u001b[38;5;241m=\u001b[39m multi_step_process(email)\n\u001b[1;32m     43\u001b[0m results \u001b[38;5;241m=\u001b[39m {\u001b[38;5;124m\"\u001b[39m\u001b[38;5;124msingle_shot\u001b[39m\u001b[38;5;124m\"\u001b[39m: {\u001b[38;5;124m\"\u001b[39m\u001b[38;5;124mresponse\u001b[39m\u001b[38;5;124m\"\u001b[39m: response_single, \u001b[38;5;124m\"\u001b[39m\u001b[38;5;124mresponse_time\u001b[39m\u001b[38;5;124m\"\u001b[39m: response_time_single},\n\u001b[1;32m     44\u001b[0m             \u001b[38;5;124m\"\u001b[39m\u001b[38;5;124mmulti_step\u001b[39m\u001b[38;5;124m\"\u001b[39m: {\u001b[38;5;124m\"\u001b[39m\u001b[38;5;124mresponse\u001b[39m\u001b[38;5;124m\"\u001b[39m: response_multi, \u001b[38;5;124m\"\u001b[39m\u001b[38;5;124mresponse_time\u001b[39m\u001b[38;5;124m\"\u001b[39m: response_time_multi}}\n",
      "Cell \u001b[0;32mIn[2], line 14\u001b[0m, in \u001b[0;36msingle_shot_prompt\u001b[0;34m(email)\u001b[0m\n\u001b[1;32m     12\u001b[0m thread_slug \u001b[38;5;241m=\u001b[39m thread[\u001b[38;5;124m\"\u001b[39m\u001b[38;5;124mslug\u001b[39m\u001b[38;5;124m\"\u001b[39m]\n\u001b[1;32m     13\u001b[0m start_time \u001b[38;5;241m=\u001b[39m time\u001b[38;5;241m.\u001b[39mtime()\n\u001b[0;32m---> 14\u001b[0m response \u001b[38;5;241m=\u001b[39m \u001b[43manyllm_client\u001b[49m\u001b[38;5;241;43m.\u001b[39;49m\u001b[43mchat_with_thread\u001b[49m\u001b[43m(\u001b[49m\u001b[43mworkspace_slug\u001b[49m\u001b[43m,\u001b[49m\u001b[43m \u001b[49m\u001b[43mthread_slug\u001b[49m\u001b[43m,\u001b[49m\u001b[43m \u001b[49m\u001b[43mprompt\u001b[49m\u001b[43m)\u001b[49m\n\u001b[1;32m     15\u001b[0m total_time \u001b[38;5;241m=\u001b[39m time\u001b[38;5;241m.\u001b[39mtime() \u001b[38;5;241m-\u001b[39m start_time\n\u001b[1;32m     16\u001b[0m anyllm_client\u001b[38;5;241m.\u001b[39mdelete_thread(workspace_slug, thread_slug)\n",
      "File \u001b[0;32m~/development/ucl/res_project/swiftmail/benchmarking/one_vs_multi_shots/../../backend/LLM/AnythingLLM_client.py:170\u001b[0m, in \u001b[0;36mAnythingLLMClient.chat_with_thread\u001b[0;34m(self, slug_workspace, slug_thread, message, mode)\u001b[0m\n\u001b[1;32m    164\u001b[0m   \u001b[38;5;28;01mraise\u001b[39;00m \u001b[38;5;167;01mValueError\u001b[39;00m(\u001b[38;5;124m\"\u001b[39m\u001b[38;5;124mmode must be either \u001b[39m\u001b[38;5;124m'\u001b[39m\u001b[38;5;124mchat\u001b[39m\u001b[38;5;124m'\u001b[39m\u001b[38;5;124m or \u001b[39m\u001b[38;5;124m'\u001b[39m\u001b[38;5;124mquery\u001b[39m\u001b[38;5;124m'\u001b[39m\u001b[38;5;124m\"\u001b[39m)\n\u001b[1;32m    166\u001b[0m payload \u001b[38;5;241m=\u001b[39m {\n\u001b[1;32m    167\u001b[0m   \u001b[38;5;124m\"\u001b[39m\u001b[38;5;124mmessage\u001b[39m\u001b[38;5;124m\"\u001b[39m: message,\n\u001b[1;32m    168\u001b[0m   \u001b[38;5;124m\"\u001b[39m\u001b[38;5;124mmode\u001b[39m\u001b[38;5;124m\"\u001b[39m: mode\n\u001b[1;32m    169\u001b[0m }\n\u001b[0;32m--> 170\u001b[0m response \u001b[38;5;241m=\u001b[39m \u001b[38;5;28;43mself\u001b[39;49m\u001b[38;5;241;43m.\u001b[39;49m\u001b[43m_make_request\u001b[49m\u001b[43m(\u001b[49m\u001b[38;5;124;43m\"\u001b[39;49m\u001b[38;5;124;43mPOST\u001b[39;49m\u001b[38;5;124;43m\"\u001b[39;49m\u001b[43m,\u001b[49m\u001b[43m \u001b[49m\u001b[38;5;124;43mf\u001b[39;49m\u001b[38;5;124;43m\"\u001b[39;49m\u001b[38;5;124;43mv1/workspace/\u001b[39;49m\u001b[38;5;132;43;01m{\u001b[39;49;00m\u001b[43mslug_workspace\u001b[49m\u001b[38;5;132;43;01m}\u001b[39;49;00m\u001b[38;5;124;43m/thread/\u001b[39;49m\u001b[38;5;132;43;01m{\u001b[39;49;00m\u001b[43mslug_thread\u001b[49m\u001b[38;5;132;43;01m}\u001b[39;49;00m\u001b[38;5;124;43m/chat\u001b[39;49m\u001b[38;5;124;43m\"\u001b[39;49m\u001b[43m,\u001b[49m\u001b[43m \u001b[49m\u001b[43mpayload\u001b[49m\u001b[43m)\u001b[49m\n\u001b[1;32m    171\u001b[0m \u001b[38;5;28;01mreturn\u001b[39;00m response\n",
      "File \u001b[0;32m~/development/ucl/res_project/swiftmail/benchmarking/one_vs_multi_shots/../../backend/LLM/AnythingLLM_client.py:19\u001b[0m, in \u001b[0;36mAnythingLLMClient._make_request\u001b[0;34m(self, method, endpoint, payload, files)\u001b[0m\n\u001b[1;32m     17\u001b[0m url \u001b[38;5;241m=\u001b[39m \u001b[38;5;124mf\u001b[39m\u001b[38;5;124m\"\u001b[39m\u001b[38;5;132;01m{\u001b[39;00m\u001b[38;5;28mself\u001b[39m\u001b[38;5;241m.\u001b[39mbase_url\u001b[38;5;132;01m}\u001b[39;00m\u001b[38;5;124m/\u001b[39m\u001b[38;5;132;01m{\u001b[39;00mendpoint\u001b[38;5;132;01m}\u001b[39;00m\u001b[38;5;124m\"\u001b[39m\n\u001b[1;32m     18\u001b[0m \u001b[38;5;28;01mtry\u001b[39;00m:\n\u001b[0;32m---> 19\u001b[0m     response \u001b[38;5;241m=\u001b[39m \u001b[43mrequests\u001b[49m\u001b[38;5;241;43m.\u001b[39;49m\u001b[43mrequest\u001b[49m\u001b[43m(\u001b[49m\u001b[43mmethod\u001b[49m\u001b[43m,\u001b[49m\u001b[43m \u001b[49m\u001b[43murl\u001b[49m\u001b[43m,\u001b[49m\u001b[43m \u001b[49m\u001b[43mheaders\u001b[49m\u001b[38;5;241;43m=\u001b[39;49m\u001b[43mheaders\u001b[49m\u001b[43m,\u001b[49m\u001b[43m \u001b[49m\u001b[43mjson\u001b[49m\u001b[38;5;241;43m=\u001b[39;49m\u001b[43mpayload\u001b[49m\u001b[43m,\u001b[49m\u001b[43m \u001b[49m\u001b[43mfiles\u001b[49m\u001b[38;5;241;43m=\u001b[39;49m\u001b[43mfiles\u001b[49m\u001b[43m)\u001b[49m\n\u001b[1;32m     20\u001b[0m     \u001b[38;5;28;01mreturn\u001b[39;00m response\u001b[38;5;241m.\u001b[39mjson()\n\u001b[1;32m     21\u001b[0m \u001b[38;5;28;01mexcept\u001b[39;00m \u001b[38;5;167;01mException\u001b[39;00m \u001b[38;5;28;01mas\u001b[39;00m e:\n",
      "File \u001b[0;32m~/development/ucl/res_project/swiftmail/venv/lib/python3.12/site-packages/requests/api.py:59\u001b[0m, in \u001b[0;36mrequest\u001b[0;34m(method, url, **kwargs)\u001b[0m\n\u001b[1;32m     55\u001b[0m \u001b[38;5;66;03m# By using the 'with' statement we are sure the session is closed, thus we\u001b[39;00m\n\u001b[1;32m     56\u001b[0m \u001b[38;5;66;03m# avoid leaving sockets open which can trigger a ResourceWarning in some\u001b[39;00m\n\u001b[1;32m     57\u001b[0m \u001b[38;5;66;03m# cases, and look like a memory leak in others.\u001b[39;00m\n\u001b[1;32m     58\u001b[0m \u001b[38;5;28;01mwith\u001b[39;00m sessions\u001b[38;5;241m.\u001b[39mSession() \u001b[38;5;28;01mas\u001b[39;00m session:\n\u001b[0;32m---> 59\u001b[0m     \u001b[38;5;28;01mreturn\u001b[39;00m \u001b[43msession\u001b[49m\u001b[38;5;241;43m.\u001b[39;49m\u001b[43mrequest\u001b[49m\u001b[43m(\u001b[49m\u001b[43mmethod\u001b[49m\u001b[38;5;241;43m=\u001b[39;49m\u001b[43mmethod\u001b[49m\u001b[43m,\u001b[49m\u001b[43m \u001b[49m\u001b[43murl\u001b[49m\u001b[38;5;241;43m=\u001b[39;49m\u001b[43murl\u001b[49m\u001b[43m,\u001b[49m\u001b[43m \u001b[49m\u001b[38;5;241;43m*\u001b[39;49m\u001b[38;5;241;43m*\u001b[39;49m\u001b[43mkwargs\u001b[49m\u001b[43m)\u001b[49m\n",
      "File \u001b[0;32m~/development/ucl/res_project/swiftmail/venv/lib/python3.12/site-packages/requests/sessions.py:589\u001b[0m, in \u001b[0;36mSession.request\u001b[0;34m(self, method, url, params, data, headers, cookies, files, auth, timeout, allow_redirects, proxies, hooks, stream, verify, cert, json)\u001b[0m\n\u001b[1;32m    584\u001b[0m send_kwargs \u001b[38;5;241m=\u001b[39m {\n\u001b[1;32m    585\u001b[0m     \u001b[38;5;124m\"\u001b[39m\u001b[38;5;124mtimeout\u001b[39m\u001b[38;5;124m\"\u001b[39m: timeout,\n\u001b[1;32m    586\u001b[0m     \u001b[38;5;124m\"\u001b[39m\u001b[38;5;124mallow_redirects\u001b[39m\u001b[38;5;124m\"\u001b[39m: allow_redirects,\n\u001b[1;32m    587\u001b[0m }\n\u001b[1;32m    588\u001b[0m send_kwargs\u001b[38;5;241m.\u001b[39mupdate(settings)\n\u001b[0;32m--> 589\u001b[0m resp \u001b[38;5;241m=\u001b[39m \u001b[38;5;28;43mself\u001b[39;49m\u001b[38;5;241;43m.\u001b[39;49m\u001b[43msend\u001b[49m\u001b[43m(\u001b[49m\u001b[43mprep\u001b[49m\u001b[43m,\u001b[49m\u001b[43m \u001b[49m\u001b[38;5;241;43m*\u001b[39;49m\u001b[38;5;241;43m*\u001b[39;49m\u001b[43msend_kwargs\u001b[49m\u001b[43m)\u001b[49m\n\u001b[1;32m    591\u001b[0m \u001b[38;5;28;01mreturn\u001b[39;00m resp\n",
      "File \u001b[0;32m~/development/ucl/res_project/swiftmail/venv/lib/python3.12/site-packages/requests/sessions.py:703\u001b[0m, in \u001b[0;36mSession.send\u001b[0;34m(self, request, **kwargs)\u001b[0m\n\u001b[1;32m    700\u001b[0m start \u001b[38;5;241m=\u001b[39m preferred_clock()\n\u001b[1;32m    702\u001b[0m \u001b[38;5;66;03m# Send the request\u001b[39;00m\n\u001b[0;32m--> 703\u001b[0m r \u001b[38;5;241m=\u001b[39m \u001b[43madapter\u001b[49m\u001b[38;5;241;43m.\u001b[39;49m\u001b[43msend\u001b[49m\u001b[43m(\u001b[49m\u001b[43mrequest\u001b[49m\u001b[43m,\u001b[49m\u001b[43m \u001b[49m\u001b[38;5;241;43m*\u001b[39;49m\u001b[38;5;241;43m*\u001b[39;49m\u001b[43mkwargs\u001b[49m\u001b[43m)\u001b[49m\n\u001b[1;32m    705\u001b[0m \u001b[38;5;66;03m# Total elapsed time of the request (approximately)\u001b[39;00m\n\u001b[1;32m    706\u001b[0m elapsed \u001b[38;5;241m=\u001b[39m preferred_clock() \u001b[38;5;241m-\u001b[39m start\n",
      "File \u001b[0;32m~/development/ucl/res_project/swiftmail/venv/lib/python3.12/site-packages/requests/adapters.py:486\u001b[0m, in \u001b[0;36mHTTPAdapter.send\u001b[0;34m(self, request, stream, timeout, verify, cert, proxies)\u001b[0m\n\u001b[1;32m    483\u001b[0m     timeout \u001b[38;5;241m=\u001b[39m TimeoutSauce(connect\u001b[38;5;241m=\u001b[39mtimeout, read\u001b[38;5;241m=\u001b[39mtimeout)\n\u001b[1;32m    485\u001b[0m \u001b[38;5;28;01mtry\u001b[39;00m:\n\u001b[0;32m--> 486\u001b[0m     resp \u001b[38;5;241m=\u001b[39m \u001b[43mconn\u001b[49m\u001b[38;5;241;43m.\u001b[39;49m\u001b[43murlopen\u001b[49m\u001b[43m(\u001b[49m\n\u001b[1;32m    487\u001b[0m \u001b[43m        \u001b[49m\u001b[43mmethod\u001b[49m\u001b[38;5;241;43m=\u001b[39;49m\u001b[43mrequest\u001b[49m\u001b[38;5;241;43m.\u001b[39;49m\u001b[43mmethod\u001b[49m\u001b[43m,\u001b[49m\n\u001b[1;32m    488\u001b[0m \u001b[43m        \u001b[49m\u001b[43murl\u001b[49m\u001b[38;5;241;43m=\u001b[39;49m\u001b[43murl\u001b[49m\u001b[43m,\u001b[49m\n\u001b[1;32m    489\u001b[0m \u001b[43m        \u001b[49m\u001b[43mbody\u001b[49m\u001b[38;5;241;43m=\u001b[39;49m\u001b[43mrequest\u001b[49m\u001b[38;5;241;43m.\u001b[39;49m\u001b[43mbody\u001b[49m\u001b[43m,\u001b[49m\n\u001b[1;32m    490\u001b[0m \u001b[43m        \u001b[49m\u001b[43mheaders\u001b[49m\u001b[38;5;241;43m=\u001b[39;49m\u001b[43mrequest\u001b[49m\u001b[38;5;241;43m.\u001b[39;49m\u001b[43mheaders\u001b[49m\u001b[43m,\u001b[49m\n\u001b[1;32m    491\u001b[0m \u001b[43m        \u001b[49m\u001b[43mredirect\u001b[49m\u001b[38;5;241;43m=\u001b[39;49m\u001b[38;5;28;43;01mFalse\u001b[39;49;00m\u001b[43m,\u001b[49m\n\u001b[1;32m    492\u001b[0m \u001b[43m        \u001b[49m\u001b[43massert_same_host\u001b[49m\u001b[38;5;241;43m=\u001b[39;49m\u001b[38;5;28;43;01mFalse\u001b[39;49;00m\u001b[43m,\u001b[49m\n\u001b[1;32m    493\u001b[0m \u001b[43m        \u001b[49m\u001b[43mpreload_content\u001b[49m\u001b[38;5;241;43m=\u001b[39;49m\u001b[38;5;28;43;01mFalse\u001b[39;49;00m\u001b[43m,\u001b[49m\n\u001b[1;32m    494\u001b[0m \u001b[43m        \u001b[49m\u001b[43mdecode_content\u001b[49m\u001b[38;5;241;43m=\u001b[39;49m\u001b[38;5;28;43;01mFalse\u001b[39;49;00m\u001b[43m,\u001b[49m\n\u001b[1;32m    495\u001b[0m \u001b[43m        \u001b[49m\u001b[43mretries\u001b[49m\u001b[38;5;241;43m=\u001b[39;49m\u001b[38;5;28;43mself\u001b[39;49m\u001b[38;5;241;43m.\u001b[39;49m\u001b[43mmax_retries\u001b[49m\u001b[43m,\u001b[49m\n\u001b[1;32m    496\u001b[0m \u001b[43m        \u001b[49m\u001b[43mtimeout\u001b[49m\u001b[38;5;241;43m=\u001b[39;49m\u001b[43mtimeout\u001b[49m\u001b[43m,\u001b[49m\n\u001b[1;32m    497\u001b[0m \u001b[43m        \u001b[49m\u001b[43mchunked\u001b[49m\u001b[38;5;241;43m=\u001b[39;49m\u001b[43mchunked\u001b[49m\u001b[43m,\u001b[49m\n\u001b[1;32m    498\u001b[0m \u001b[43m    \u001b[49m\u001b[43m)\u001b[49m\n\u001b[1;32m    500\u001b[0m \u001b[38;5;28;01mexcept\u001b[39;00m (ProtocolError, \u001b[38;5;167;01mOSError\u001b[39;00m) \u001b[38;5;28;01mas\u001b[39;00m err:\n\u001b[1;32m    501\u001b[0m     \u001b[38;5;28;01mraise\u001b[39;00m \u001b[38;5;167;01mConnectionError\u001b[39;00m(err, request\u001b[38;5;241m=\u001b[39mrequest)\n",
      "File \u001b[0;32m~/development/ucl/res_project/swiftmail/venv/lib/python3.12/site-packages/urllib3/connectionpool.py:789\u001b[0m, in \u001b[0;36mHTTPConnectionPool.urlopen\u001b[0;34m(self, method, url, body, headers, retries, redirect, assert_same_host, timeout, pool_timeout, release_conn, chunked, body_pos, preload_content, decode_content, **response_kw)\u001b[0m\n\u001b[1;32m    786\u001b[0m response_conn \u001b[38;5;241m=\u001b[39m conn \u001b[38;5;28;01mif\u001b[39;00m \u001b[38;5;129;01mnot\u001b[39;00m release_conn \u001b[38;5;28;01melse\u001b[39;00m \u001b[38;5;28;01mNone\u001b[39;00m\n\u001b[1;32m    788\u001b[0m \u001b[38;5;66;03m# Make the request on the HTTPConnection object\u001b[39;00m\n\u001b[0;32m--> 789\u001b[0m response \u001b[38;5;241m=\u001b[39m \u001b[38;5;28;43mself\u001b[39;49m\u001b[38;5;241;43m.\u001b[39;49m\u001b[43m_make_request\u001b[49m\u001b[43m(\u001b[49m\n\u001b[1;32m    790\u001b[0m \u001b[43m    \u001b[49m\u001b[43mconn\u001b[49m\u001b[43m,\u001b[49m\n\u001b[1;32m    791\u001b[0m \u001b[43m    \u001b[49m\u001b[43mmethod\u001b[49m\u001b[43m,\u001b[49m\n\u001b[1;32m    792\u001b[0m \u001b[43m    \u001b[49m\u001b[43murl\u001b[49m\u001b[43m,\u001b[49m\n\u001b[1;32m    793\u001b[0m \u001b[43m    \u001b[49m\u001b[43mtimeout\u001b[49m\u001b[38;5;241;43m=\u001b[39;49m\u001b[43mtimeout_obj\u001b[49m\u001b[43m,\u001b[49m\n\u001b[1;32m    794\u001b[0m \u001b[43m    \u001b[49m\u001b[43mbody\u001b[49m\u001b[38;5;241;43m=\u001b[39;49m\u001b[43mbody\u001b[49m\u001b[43m,\u001b[49m\n\u001b[1;32m    795\u001b[0m \u001b[43m    \u001b[49m\u001b[43mheaders\u001b[49m\u001b[38;5;241;43m=\u001b[39;49m\u001b[43mheaders\u001b[49m\u001b[43m,\u001b[49m\n\u001b[1;32m    796\u001b[0m \u001b[43m    \u001b[49m\u001b[43mchunked\u001b[49m\u001b[38;5;241;43m=\u001b[39;49m\u001b[43mchunked\u001b[49m\u001b[43m,\u001b[49m\n\u001b[1;32m    797\u001b[0m \u001b[43m    \u001b[49m\u001b[43mretries\u001b[49m\u001b[38;5;241;43m=\u001b[39;49m\u001b[43mretries\u001b[49m\u001b[43m,\u001b[49m\n\u001b[1;32m    798\u001b[0m \u001b[43m    \u001b[49m\u001b[43mresponse_conn\u001b[49m\u001b[38;5;241;43m=\u001b[39;49m\u001b[43mresponse_conn\u001b[49m\u001b[43m,\u001b[49m\n\u001b[1;32m    799\u001b[0m \u001b[43m    \u001b[49m\u001b[43mpreload_content\u001b[49m\u001b[38;5;241;43m=\u001b[39;49m\u001b[43mpreload_content\u001b[49m\u001b[43m,\u001b[49m\n\u001b[1;32m    800\u001b[0m \u001b[43m    \u001b[49m\u001b[43mdecode_content\u001b[49m\u001b[38;5;241;43m=\u001b[39;49m\u001b[43mdecode_content\u001b[49m\u001b[43m,\u001b[49m\n\u001b[1;32m    801\u001b[0m \u001b[43m    \u001b[49m\u001b[38;5;241;43m*\u001b[39;49m\u001b[38;5;241;43m*\u001b[39;49m\u001b[43mresponse_kw\u001b[49m\u001b[43m,\u001b[49m\n\u001b[1;32m    802\u001b[0m \u001b[43m\u001b[49m\u001b[43m)\u001b[49m\n\u001b[1;32m    804\u001b[0m \u001b[38;5;66;03m# Everything went great!\u001b[39;00m\n\u001b[1;32m    805\u001b[0m clean_exit \u001b[38;5;241m=\u001b[39m \u001b[38;5;28;01mTrue\u001b[39;00m\n",
      "File \u001b[0;32m~/development/ucl/res_project/swiftmail/venv/lib/python3.12/site-packages/urllib3/connectionpool.py:536\u001b[0m, in \u001b[0;36mHTTPConnectionPool._make_request\u001b[0;34m(self, conn, method, url, body, headers, retries, timeout, chunked, response_conn, preload_content, decode_content, enforce_content_length)\u001b[0m\n\u001b[1;32m    534\u001b[0m \u001b[38;5;66;03m# Receive the response from the server\u001b[39;00m\n\u001b[1;32m    535\u001b[0m \u001b[38;5;28;01mtry\u001b[39;00m:\n\u001b[0;32m--> 536\u001b[0m     response \u001b[38;5;241m=\u001b[39m \u001b[43mconn\u001b[49m\u001b[38;5;241;43m.\u001b[39;49m\u001b[43mgetresponse\u001b[49m\u001b[43m(\u001b[49m\u001b[43m)\u001b[49m\n\u001b[1;32m    537\u001b[0m \u001b[38;5;28;01mexcept\u001b[39;00m (BaseSSLError, \u001b[38;5;167;01mOSError\u001b[39;00m) \u001b[38;5;28;01mas\u001b[39;00m e:\n\u001b[1;32m    538\u001b[0m     \u001b[38;5;28mself\u001b[39m\u001b[38;5;241m.\u001b[39m_raise_timeout(err\u001b[38;5;241m=\u001b[39me, url\u001b[38;5;241m=\u001b[39murl, timeout_value\u001b[38;5;241m=\u001b[39mread_timeout)\n",
      "File \u001b[0;32m~/development/ucl/res_project/swiftmail/venv/lib/python3.12/site-packages/urllib3/connection.py:464\u001b[0m, in \u001b[0;36mHTTPConnection.getresponse\u001b[0;34m(self)\u001b[0m\n\u001b[1;32m    461\u001b[0m \u001b[38;5;28;01mfrom\u001b[39;00m \u001b[38;5;21;01m.\u001b[39;00m\u001b[38;5;21;01mresponse\u001b[39;00m \u001b[38;5;28;01mimport\u001b[39;00m HTTPResponse\n\u001b[1;32m    463\u001b[0m \u001b[38;5;66;03m# Get the response from http.client.HTTPConnection\u001b[39;00m\n\u001b[0;32m--> 464\u001b[0m httplib_response \u001b[38;5;241m=\u001b[39m \u001b[38;5;28;43msuper\u001b[39;49m\u001b[43m(\u001b[49m\u001b[43m)\u001b[49m\u001b[38;5;241;43m.\u001b[39;49m\u001b[43mgetresponse\u001b[49m\u001b[43m(\u001b[49m\u001b[43m)\u001b[49m\n\u001b[1;32m    466\u001b[0m \u001b[38;5;28;01mtry\u001b[39;00m:\n\u001b[1;32m    467\u001b[0m     assert_header_parsing(httplib_response\u001b[38;5;241m.\u001b[39mmsg)\n",
      "File \u001b[0;32m/opt/homebrew/Cellar/python@3.12/3.12.3/Frameworks/Python.framework/Versions/3.12/lib/python3.12/http/client.py:1428\u001b[0m, in \u001b[0;36mHTTPConnection.getresponse\u001b[0;34m(self)\u001b[0m\n\u001b[1;32m   1426\u001b[0m \u001b[38;5;28;01mtry\u001b[39;00m:\n\u001b[1;32m   1427\u001b[0m     \u001b[38;5;28;01mtry\u001b[39;00m:\n\u001b[0;32m-> 1428\u001b[0m         \u001b[43mresponse\u001b[49m\u001b[38;5;241;43m.\u001b[39;49m\u001b[43mbegin\u001b[49m\u001b[43m(\u001b[49m\u001b[43m)\u001b[49m\n\u001b[1;32m   1429\u001b[0m     \u001b[38;5;28;01mexcept\u001b[39;00m \u001b[38;5;167;01mConnectionError\u001b[39;00m:\n\u001b[1;32m   1430\u001b[0m         \u001b[38;5;28mself\u001b[39m\u001b[38;5;241m.\u001b[39mclose()\n",
      "File \u001b[0;32m/opt/homebrew/Cellar/python@3.12/3.12.3/Frameworks/Python.framework/Versions/3.12/lib/python3.12/http/client.py:331\u001b[0m, in \u001b[0;36mHTTPResponse.begin\u001b[0;34m(self)\u001b[0m\n\u001b[1;32m    329\u001b[0m \u001b[38;5;66;03m# read until we get a non-100 response\u001b[39;00m\n\u001b[1;32m    330\u001b[0m \u001b[38;5;28;01mwhile\u001b[39;00m \u001b[38;5;28;01mTrue\u001b[39;00m:\n\u001b[0;32m--> 331\u001b[0m     version, status, reason \u001b[38;5;241m=\u001b[39m \u001b[38;5;28;43mself\u001b[39;49m\u001b[38;5;241;43m.\u001b[39;49m\u001b[43m_read_status\u001b[49m\u001b[43m(\u001b[49m\u001b[43m)\u001b[49m\n\u001b[1;32m    332\u001b[0m     \u001b[38;5;28;01mif\u001b[39;00m status \u001b[38;5;241m!=\u001b[39m CONTINUE:\n\u001b[1;32m    333\u001b[0m         \u001b[38;5;28;01mbreak\u001b[39;00m\n",
      "File \u001b[0;32m/opt/homebrew/Cellar/python@3.12/3.12.3/Frameworks/Python.framework/Versions/3.12/lib/python3.12/http/client.py:292\u001b[0m, in \u001b[0;36mHTTPResponse._read_status\u001b[0;34m(self)\u001b[0m\n\u001b[1;32m    291\u001b[0m \u001b[38;5;28;01mdef\u001b[39;00m \u001b[38;5;21m_read_status\u001b[39m(\u001b[38;5;28mself\u001b[39m):\n\u001b[0;32m--> 292\u001b[0m     line \u001b[38;5;241m=\u001b[39m \u001b[38;5;28mstr\u001b[39m(\u001b[38;5;28;43mself\u001b[39;49m\u001b[38;5;241;43m.\u001b[39;49m\u001b[43mfp\u001b[49m\u001b[38;5;241;43m.\u001b[39;49m\u001b[43mreadline\u001b[49m\u001b[43m(\u001b[49m\u001b[43m_MAXLINE\u001b[49m\u001b[43m \u001b[49m\u001b[38;5;241;43m+\u001b[39;49m\u001b[43m \u001b[49m\u001b[38;5;241;43m1\u001b[39;49m\u001b[43m)\u001b[49m, \u001b[38;5;124m\"\u001b[39m\u001b[38;5;124miso-8859-1\u001b[39m\u001b[38;5;124m\"\u001b[39m)\n\u001b[1;32m    293\u001b[0m     \u001b[38;5;28;01mif\u001b[39;00m \u001b[38;5;28mlen\u001b[39m(line) \u001b[38;5;241m>\u001b[39m _MAXLINE:\n\u001b[1;32m    294\u001b[0m         \u001b[38;5;28;01mraise\u001b[39;00m LineTooLong(\u001b[38;5;124m\"\u001b[39m\u001b[38;5;124mstatus line\u001b[39m\u001b[38;5;124m\"\u001b[39m)\n",
      "File \u001b[0;32m/opt/homebrew/Cellar/python@3.12/3.12.3/Frameworks/Python.framework/Versions/3.12/lib/python3.12/socket.py:707\u001b[0m, in \u001b[0;36mSocketIO.readinto\u001b[0;34m(self, b)\u001b[0m\n\u001b[1;32m    705\u001b[0m \u001b[38;5;28;01mwhile\u001b[39;00m \u001b[38;5;28;01mTrue\u001b[39;00m:\n\u001b[1;32m    706\u001b[0m     \u001b[38;5;28;01mtry\u001b[39;00m:\n\u001b[0;32m--> 707\u001b[0m         \u001b[38;5;28;01mreturn\u001b[39;00m \u001b[38;5;28;43mself\u001b[39;49m\u001b[38;5;241;43m.\u001b[39;49m\u001b[43m_sock\u001b[49m\u001b[38;5;241;43m.\u001b[39;49m\u001b[43mrecv_into\u001b[49m\u001b[43m(\u001b[49m\u001b[43mb\u001b[49m\u001b[43m)\u001b[49m\n\u001b[1;32m    708\u001b[0m     \u001b[38;5;28;01mexcept\u001b[39;00m timeout:\n\u001b[1;32m    709\u001b[0m         \u001b[38;5;28mself\u001b[39m\u001b[38;5;241m.\u001b[39m_timeout_occurred \u001b[38;5;241m=\u001b[39m \u001b[38;5;28;01mTrue\u001b[39;00m\n",
      "\u001b[0;31mKeyboardInterrupt\u001b[0m: "
     ]
    }
   ],
   "source": [
    "\n",
    "path_to_enquiries = \"../../dataset\"\n",
    "\n",
    "counter = 0\n",
    "results_folder = \"./results\"\n",
    "os.makedirs(results_folder, exist_ok=True)\n",
    "\n",
    "already_processed = set()\n",
    "for results_file in os.listdir(results_folder):\n",
    "    if results_file.endswith(\".json\"):\n",
    "        already_processed.add(results_file.replace(\"results_\", \"\"))\n",
    "        \n",
    "for enquiry_path in os.listdir(path_to_enquiries):\n",
    "    if enquiry_path in already_processed:\n",
    "        print(f\"Already processed {enquiry_path}\")\n",
    "        continue\n",
    "    if \"fake\" not in enquiry_path and not enquiry_path.endswith(\".json\"):\n",
    "        print(f\"Skipping {enquiry_path}\")\n",
    "        continue\n",
    "      \n",
    "    filepath = os.path.join(results_folder, f\"results_{enquiry_path}\")\n",
    "    results = {}\n",
    "    try:\n",
    "        if not enquiry_path.endswith(\".json\") or not \"fake\" in enquiry_path:\n",
    "            continue\n",
    "        print(f\"Processing {enquiry_path}\")\n",
    "        with open(os.path.join(path_to_enquiries, enquiry_path), \"r\") as f:\n",
    "            enquiry = json.load(f)\n",
    "            \n",
    "        email = enquiry[\"email\"]\n",
    "        if \"subject:\" in email.lower():\n",
    "            subject = email.split(\"\\n\")[0].replace(\"Subject:\", \"\").strip()\n",
    "            body = \"\\n\".join(email.split(\"\\n\")[1:])\n",
    "        else:\n",
    "            subject = \"Subject not found\"\n",
    "            body = email\n",
    "        \n",
    "        email = Email(subject=subject, body=body, id=counter)\n",
    "        counter += 1\n",
    "        \n",
    "        response_single, response_time_single = single_shot_prompt(email)\n",
    "        response_multi, response_time_multi = multi_step_process(email)\n",
    "        \n",
    "        results = {\"single_shot\": {\"response\": response_single, \"response_time\": response_time_single},\n",
    "                    \"multi_step\": {\"response\": response_multi, \"response_time\": response_time_multi}}\n",
    "\n",
    "        with open(filepath, \"w\") as f:\n",
    "            json.dump(results, f)\n",
    "            \n",
    "    except Exception as e:\n",
    "        print(f\"Error processing {enquiry_path}\")\n",
    "        print(e)\n",
    "        continue    \n",
    "\n",
    "print(\"Done\")\n"
   ]
  }
 ],
 "metadata": {
  "kernelspec": {
   "display_name": "venv",
   "language": "python",
   "name": "python3"
  },
  "language_info": {
   "codemirror_mode": {
    "name": "ipython",
    "version": 3
   },
   "file_extension": ".py",
   "mimetype": "text/x-python",
   "name": "python",
   "nbconvert_exporter": "python",
   "pygments_lexer": "ipython3",
   "version": "3.12.3"
  }
 },
 "nbformat": 4,
 "nbformat_minor": 2
}
