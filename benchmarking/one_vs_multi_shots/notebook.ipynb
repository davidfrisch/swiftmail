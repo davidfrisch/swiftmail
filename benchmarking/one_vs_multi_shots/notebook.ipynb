{
 "cells": [
  {
   "cell_type": "markdown",
   "metadata": {},
   "source": [
    "## Goal\n",
    "We want to explore how better is the performance of the system of generating a draft with a multiple step process rather than a single step process"
   ]
  },
  {
   "cell_type": "markdown",
   "metadata": {},
   "source": [
    "### Initial Variables"
   ]
  },
  {
   "cell_type": "code",
   "execution_count": 10,
   "metadata": {},
   "outputs": [
    {
     "name": "stdout",
     "output_type": "stream",
     "text": [
      "Performing health check on http://localhost:11434\n",
      "Ollama is running\n",
      "Health check passed\n"
     ]
    }
   ],
   "source": [
    "import sys \n",
    "import os\n",
    "import json_tricks as json\n",
    "import time\n",
    "sys.path.append(\"../../\")\n",
    "from backend.LLM.AnythingLLM_client import AnythingLLMClient\n",
    "from backend.Generater import Generater\n",
    "from backend.LLM.OllamaLLM import OllamaAI\n",
    "from backend.database.schemas import Email\n",
    "\n",
    "\n",
    "anyllm_client = AnythingLLMClient(\"http://localhost:3001/api\", \"3WMNAPZ-GYH4RBE-M67SR00-7Y7KYEF\")\n",
    "ollama_client = OllamaAI('http://localhost:11434', 'llama3:instruct')\n",
    "generator = Generater(ollama_client, anyllm_client)\n",
    "path_to_enquiry = \"../../dataset/fake_email_1.json\"\n",
    "with open(path_to_enquiry, \"r\") as f:\n",
    "    enquiry = json.load(f)\n",
    "\n",
    "enquiry_text = enquiry[\"email\"]\n",
    "subject = enquiry_text.split(\"\\n\\n\")[0]\n",
    "body = '\\n'.join(enquiry_text.split(\"\\n\\n\")[1:])"
   ]
  },
  {
   "cell_type": "markdown",
   "metadata": {},
   "source": [
    "### Single Step Process"
   ]
  },
  {
   "cell_type": "code",
   "execution_count": 7,
   "metadata": {},
   "outputs": [],
   "source": [
    "\n",
    "def single_shot_prompt(email: Email):\n",
    "    prompt = f\"\"\" You are David Frischer, the program administrator for the UCL Software Engineering program.\n",
    "            You have received the following enquiry from a student:\n",
    "            Subject: {email.subject}\n",
    "            Body: {email.body}\n",
    "            \n",
    "           \n",
    "            Draft a response to the student's email.\n",
    "            \"\"\"\n",
    "    workspace_slug =  anyllm_client.get_workspace_slug(\"General\")\n",
    "    thread = anyllm_client.new_thread(workspace_slug, \"tmp-thread\")\n",
    "    thread_slug = thread[\"slug\"]\n",
    "    start_time = time.time()\n",
    "    response = anyllm_client.chat_with_thread(workspace_slug, thread_slug, prompt)\n",
    "    total_time = time.time() - start_time\n",
    "    anyllm_client.delete_thread(workspace_slug, thread_slug)\n",
    "    return response, total_time"
   ]
  },
  {
   "cell_type": "markdown",
   "metadata": {},
   "source": [
    "### Response format"
   ]
  },
  {
   "cell_type": "markdown",
   "metadata": {},
   "source": [
    "## Mutiple Step Process"
   ]
  },
  {
   "cell_type": "code",
   "execution_count": 13,
   "metadata": {},
   "outputs": [],
   "source": [
    "def multi_step_process(email:Email):\n",
    "    start_time = time.time()\n",
    "    response = generator.single_run_reply_to_email(email)\n",
    "    response_time = time.time() - start_time\n",
    "    \n",
    "    return response, response_time\n",
    "    "
   ]
  },
  {
   "cell_type": "markdown",
   "metadata": {},
   "source": [
    "## Generate for multiple drafts"
   ]
  },
  {
   "cell_type": "code",
   "execution_count": 14,
   "metadata": {},
   "outputs": [
    {
     "name": "stdout",
     "output_type": "stream",
     "text": [
      "Creating new thread with name: tmp-thread in workspace: general\n"
     ]
    },
    {
     "name": "stderr",
     "output_type": "stream",
     "text": [
      "[ERROR] Expecting value: line 1 column 1 (char 0)\n",
      "[ERROR] Expecting value: line 1 column 1 (char 0)\n"
     ]
    },
    {
     "name": "stdout",
     "output_type": "stream",
     "text": [
      "Creating new thread with name: test123 in workspace: general\n",
      "Total Sim Distance: 0.4044093191623688\n",
      "Total Sim Distance: 0.4109489321708679\n"
     ]
    },
    {
     "name": "stderr",
     "output_type": "stream",
     "text": [
      "[ERROR] Expecting value: line 1 column 1 (char 0)\n",
      "[ERROR] Expecting value: line 1 column 1 (char 0)\n"
     ]
    },
    {
     "name": "stdout",
     "output_type": "stream",
     "text": [
      "Creating new thread with name: tmp-thread in workspace: general\n"
     ]
    },
    {
     "name": "stderr",
     "output_type": "stream",
     "text": [
      "[ERROR] Expecting value: line 1 column 1 (char 0)\n",
      "[ERROR] Expecting value: line 1 column 1 (char 0)\n"
     ]
    },
    {
     "name": "stdout",
     "output_type": "stream",
     "text": [
      "Creating new thread with name: test123 in workspace: general\n",
      "Total Sim Distance: 0.5420188158750534\n",
      "Total Sim Distance: 0.6712368726730347\n",
      "Total Sim Distance: 0.6257844865322113\n"
     ]
    },
    {
     "name": "stderr",
     "output_type": "stream",
     "text": [
      "[ERROR] Expecting value: line 1 column 1 (char 0)\n",
      "[ERROR] Expecting value: line 1 column 1 (char 0)\n"
     ]
    }
   ],
   "source": [
    "path_to_enquiries = \"../../dataset\"\n",
    "\n",
    "counter = 0\n",
    "results_folder = \"./results\"\n",
    "os.makedirs(results_folder, exist_ok=True)\n",
    "filepath = os.path.join(results_folder, \"results.json\")\n",
    "\n",
    "results = {}\n",
    "        \n",
    "for enquiry_path in os.listdir(path_to_enquiries)[:2]:\n",
    "    with open(os.path.join(path_to_enquiries, enquiry_path), \"r\") as f:\n",
    "        enquiry = json.load(f)\n",
    "        \n",
    "    email = enquiry[\"email\"]\n",
    "    if \"subject:\" in email.lower():\n",
    "        subject = email.split(\"\\n\")[0].replace(\"Subject:\", \"\").strip()\n",
    "        body = \"\\n\".join(email.split(\"\\n\")[1:])\n",
    "    else:\n",
    "        subject = \"Subject not found\"\n",
    "        body = email\n",
    "    \n",
    "    email = Email(subject=subject, body=body, id=counter)\n",
    "    counter += 1\n",
    "    \n",
    "    response_single, response_time_single = single_shot_prompt(email)\n",
    "    response_multi, response_time_multi = multi_step_process(email)\n",
    "    \n",
    "    results[str(email.id)] = {\"single_shot\": {\"response\": response_single, \"response_time\": response_time_single},\n",
    "                              \"multi_step\": {\"response\": response_multi, \"response_time\": response_time_multi}}\n",
    "    \n",
    "\n",
    "with open(filepath, \"w\") as f:\n",
    "    json.dump(results, f)\n",
    "    \n",
    "    \n",
    "  \n"
   ]
  }
 ],
 "metadata": {
  "kernelspec": {
   "display_name": "venv",
   "language": "python",
   "name": "python3"
  },
  "language_info": {
   "codemirror_mode": {
    "name": "ipython",
    "version": 3
   },
   "file_extension": ".py",
   "mimetype": "text/x-python",
   "name": "python",
   "nbconvert_exporter": "python",
   "pygments_lexer": "ipython3",
   "version": "3.12.3"
  }
 },
 "nbformat": 4,
 "nbformat_minor": 2
}
