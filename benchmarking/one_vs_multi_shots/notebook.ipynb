{
 "cells": [
  {
   "cell_type": "markdown",
   "metadata": {},
   "source": [
    "## Goal\n",
    "We want to explore how better is the performance of the system of generating a draft with a multiple step process rather than a single step process"
   ]
  },
  {
   "cell_type": "markdown",
   "metadata": {},
   "source": [
    "### Initial Variables"
   ]
  },
  {
   "cell_type": "code",
   "execution_count": 1,
   "metadata": {},
   "outputs": [
    {
     "name": "stdout",
     "output_type": "stream",
     "text": [
      "Performing health check on http://localhost:11434\n",
      "Ollama is running\n",
      "Health check passed\n"
     ]
    }
   ],
   "source": [
    "import sys \n",
    "import json\n",
    "sys.path.append(\"../../\")\n",
    "from backend.LLM.AnythingLLM_client import AnythingLLMClient\n",
    "from backend.Generater import Generater\n",
    "from backend.LLM.OllamaLLM import OllamaAI\n",
    "from backend.database.schemas import Email\n",
    "\n",
    "\n",
    "anyllm_client = AnythingLLMClient(\"http://localhost:3001/api\", \"3WMNAPZ-GYH4RBE-M67SR00-7Y7KYEF\")\n",
    "ollama_client = OllamaAI('http://localhost:11434', 'llama3:instruct')\n",
    "generator = Generater(ollama_client, anyllm_client)\n",
    "path_to_enquiry = \"../../dataset/fake_email_1.json\"\n",
    "with open(path_to_enquiry, \"r\") as f:\n",
    "    enquiry = json.load(f)\n",
    "\n",
    "enquiry_text = enquiry[\"email\"]\n",
    "subject = enquiry_text.split(\"\\n\\n\")[0]\n",
    "body = '\\n'.join(enquiry_text.split(\"\\n\\n\")[1:])"
   ]
  },
  {
   "cell_type": "markdown",
   "metadata": {},
   "source": [
    "### Single Step Process"
   ]
  },
  {
   "cell_type": "code",
   "execution_count": 2,
   "metadata": {},
   "outputs": [
    {
     "name": "stdout",
     "output_type": "stream",
     "text": [
      "{'id': '72b718d6-a866-4032-a56c-9fe240942d6d', 'type': 'textResponse', 'close': True, 'error': None, 'chatId': 600, 'textResponse': \"Subject: Application Questions for MSc in Software Engineering at UCL\\n\\nDear John,\\n\\nThank you for your email and for considering the Master's degree program in Software Engineering at University College London (UCL). I'm happy to help clarify a few essential details before submitting your application.\\n\\n1. English Language Requirements:\\nAs an international student like yourself, you will need to take a recognized English language proficiency test (e.g., IELTS or TOEFL) prior to applying for the MSc program in Software Engineering. The required evidence should be included with the complete application; however, you can submit your application before taking a test. If unsatisfactory or no evidence of English language proficiency has been provided with the application, admission will be conditional upon the provision of such evidence.\\n\\n2. Part-time Employment:\\nInternational students like yourself are permitted to work part-time during their studies at UCL. However, please note that you should not exceed 20 hours of paid employment per week, and your studies must remain your primary focus. We recommend consulting our website for more information on part-time employment guidelines.\\n\\n3. Application Fee:\\nYou do not need to pay an application fee for each master's degree program that you apply to, including the MSc in Software Engineering. The application process is free of charge, and you can submit multiple applications without additional fees.\\n\\nI hope this information helps clarify any concerns you may have had regarding your application. If you require any further guidance or have questions regarding the entry requirements for the programme, please feel free to contact Graduate Admissions at +44 (0)20 8059 0939 or [graduateschool@ucl.ac.uk](mailto:graduateschool@ucl.ac.uk).\\n\\nThank you again for your interest in the MSc in Software Engineering at UCL. We look forward to receiving your application.\\n\\nBest regards,\\n\\nDavid Frischer\\nProgram Administrator, MSc in Software Engineering\", 'sources': [{'id': 'e4e93601-8dcf-405d-b642-8a919edc9dd9', 'url': 'file://www_ucl.ac.uk-prospective-studentsgraduatefrequently-asked-questions.html', 'title': 'www_ucl.ac.uk-prospective-studentsgraduatefrequently-asked-questions.html', 'docAuthor': 'no author found', 'description': 'No description found.', 'docSource': 'URL link uploaded by the user.', 'chunkSource': 'link://https://www.ucl.ac.uk/prospective-students/graduate/frequently-asked-questions', 'published': '8/6/2024, 3:34:52 PM', 'wordCount': 3929, 'token_count_estimate': 4952, 'text': '<document_metadata>\\nsourceDocument: www_ucl.ac.uk-prospective-studentsgraduatefrequently-asked-questions.html\\npublished: 8/6/2024, 3:34:52 PM\\n</document_metadata>\\n\\nThe English language requirements for a programme are stated on the programme’s prospectus page. You may be required to meet one of UCL’s five levels of English language proficiency, or obtain specific scores in a UCL-recognised test. UCL’s English language policy details all of the ways in which you can meet the minimum English language requirement for your chosen programme of study.\\n\\nDo I need to take a recognised English test before I apply for my graduate programme?\\n\\nThe required evidence should, if possible, be included with the complete application. However, you can submit your application before you have taken a test. If either unsatisfactory or no evidence of English language proficiency has been provided with the application, admission will be conditional upon the provision of such evidence. This condition will be clearly indicated on the offer letter and must be fulfilled before enrolment at UCL.\\n\\nWill I need to attend an interview for my graduate programme?', '_distance': 0.34031784534454346, 'score': 0.6596821546554565}, {'id': '4360efd0-3482-43be-a5d3-51971a4cd830', 'url': 'file://www_ucl.ac.uk-prospective-studentsgraduatefrequently-asked-questions.html', 'title': 'www_ucl.ac.uk-prospective-studentsgraduatefrequently-asked-questions.html', 'docAuthor': 'no author found', 'description': 'No description found.', 'docSource': 'URL link uploaded by the user.', 'chunkSource': 'link://https://www.ucl.ac.uk/prospective-students/graduate/frequently-asked-questions', 'published': '8/6/2024, 3:34:52 PM', 'wordCount': 3929, 'token_count_estimate': 4952, 'text': '<document_metadata>\\nsourceDocument: www_ucl.ac.uk-prospective-studentsgraduatefrequently-asked-questions.html\\npublished: 8/6/2024, 3:34:52 PM\\n</document_metadata>\\n\\nWe advise that you contact the academic department before submitting your application to identify a supervisor who will be available to supervise your research.\\n\\nMy university will only provide my transcript directly to UCL. What should I do?\\n\\nThe transcript section of the application form is mandatory. If you would like to send your transcript to us securely through your University’s transcript service, please upload a word document to your application confirming that you will submit your application through your University’s transcript service.\\n\\nOnce you have submitted your application please have your University’s transcript service send your transcript to transcripts.pgadmissions@ucl.ac.uk.\\n\\nPlease note that this email address can only be used to provide transcripts directly from your University’s transcript service.\\n\\nEntry requirements\\nWhat are the English language requirements for my graduate programme?', '_distance': 0.35817384719848633, 'score': 0.6418261528015137}, {'id': '3b89faae-82ee-44c8-9c63-10d8a2bb22a1', 'url': 'file://www_ucl.ac.uk-prospective-studentsgraduatefrequently-asked-questions.html', 'title': 'www_ucl.ac.uk-prospective-studentsgraduatefrequently-asked-questions.html', 'docAuthor': 'no author found', 'description': 'No description found.', 'docSource': 'URL link uploaded by the user.', 'chunkSource': 'link://https://www.ucl.ac.uk/prospective-students/graduate/frequently-asked-questions', 'published': '8/6/2024, 3:34:52 PM', 'wordCount': 3929, 'token_count_estimate': 4952, 'text': '<document_metadata>\\nsourceDocument: www_ucl.ac.uk-prospective-studentsgraduatefrequently-asked-questions.html\\npublished: 8/6/2024, 3:34:52 PM\\n</document_metadata>\\n\\nDo I need to pay a tuition fee deposit?\\n\\nIt will be stated in your offer letter if your programme requires you to pay a tuition fee deposit to secure your place. You do not need to pay a tuition fee deposit unless you have received an offer of admission. More information about paying your tuition fee deposit can be found on the\\xa0Offer Holder FAQs.\\n\\nAs a graduate student, will I be eligible for Home or International tuition fees?\\n\\nUCL will only make an assessment of your fee status at the point of offer. However, we provide details of how UCL assesses your fee status on our\\xa0Student Fee Status webpages. You can also obtain independent guidance from the UK Council for International Student Affairs (UKCISA).\\xa0\\n\\nHow do I appeal my fee status?\\n\\nFor information about appealing your fee status please go to the\\xa0Offer Holder FAQs.\\xa0\\n\\nStudent visas\\nDo I require a visa to study at UCL?', '_distance': 0.37795156240463257, 'score': 0.6220484375953674}, {'id': '4fec4b4c-9eca-49fc-b8d5-a52caddad535', 'url': 'file://www_ucl.ac.uk-prospective-studentsgraduatefrequently-asked-questions.html', 'title': 'www_ucl.ac.uk-prospective-studentsgraduatefrequently-asked-questions.html', 'docAuthor': 'no author found', 'description': 'No description found.', 'docSource': 'URL link uploaded by the user.', 'chunkSource': 'link://https://www.ucl.ac.uk/prospective-students/graduate/frequently-asked-questions', 'published': '8/6/2024, 3:34:52 PM', 'wordCount': 3929, 'token_count_estimate': 4952, 'text': '<document_metadata>\\nsourceDocument: www_ucl.ac.uk-prospective-studentsgraduatefrequently-asked-questions.html\\npublished: 8/6/2024, 3:34:52 PM\\n</document_metadata>\\n\\nIf you cannot find the information you need in our FAQs or have questions regarding the entry requirements for a programme, please contact Graduate Admissions.\\n\\nProspective Student Enquiries\\n\\nGraduate Admissions\\n\\n+44 (0)20 8059 0939\\n\\nMore information\\nWhat happens after you apply to UCL\\nStay in touch\\n\\nRegister interest in your chosen subject to receive notice of graduate open days, events and more.\\n\\n Register for updates\\nVisit us\\n View upcoming open days\\nFind a course\\n\\nSearch and filter over 2,000 graduate degrees and find your perfect course.', '_distance': 0.38782835006713867, 'score': 0.6121716499328613}]}\n"
     ]
    }
   ],
   "source": [
    "\n",
    "\n",
    "prompt = f\"\"\" You are David Frischer, the program administrator for the UCL Software Engineering program.\n",
    "        You have received an email from a student asking the following questions:\n",
    "        Subject: {subject}\n",
    "        Body: {body}\n",
    "        \n",
    "        Please draft a response to the student's email.\n",
    "        \n",
    "        Email:\n",
    "        {enquiry_text}\n",
    "        \"\"\"\n",
    "        \n",
    "\n",
    "response = anyllm_client.chat_with_workspace(\"single-shot\", prompt)\n",
    "print(response)"
   ]
  },
  {
   "cell_type": "markdown",
   "metadata": {},
   "source": [
    "### Response format"
   ]
  },
  {
   "cell_type": "code",
   "execution_count": 3,
   "metadata": {},
   "outputs": [
    {
     "name": "stdout",
     "output_type": "stream",
     "text": [
      "Subject: Application Questions for MSc in Software Engineering at UCL\n",
      "\n",
      "Dear John,\n",
      "\n",
      "Thank you for your email and for considering the Master's degree program in Software Engineering at University College London (UCL). I'm happy to help clarify a few essential details before submitting your application.\n",
      "\n",
      "1. English Language Requirements:\n",
      "As an international student like yourself, you will need to take a recognized English language proficiency test (e.g., IELTS or TOEFL) prior to applying for the MSc program in Software Engineering. The required evidence should be included with the complete application; however, you can submit your application before taking a test. If unsatisfactory or no evidence of English language proficiency has been provided with the application, admission will be conditional upon the provision of such evidence.\n",
      "\n",
      "2. Part-time Employment:\n",
      "International students like yourself are permitted to work part-time during their studies at UCL. However, please note that you should not exceed 20 hours of paid employment per week, and your studies must remain your primary focus. We recommend consulting our website for more information on part-time employment guidelines.\n",
      "\n",
      "3. Application Fee:\n",
      "You do not need to pay an application fee for each master's degree program that you apply to, including the MSc in Software Engineering. The application process is free of charge, and you can submit multiple applications without additional fees.\n",
      "\n",
      "I hope this information helps clarify any concerns you may have had regarding your application. If you require any further guidance or have questions regarding the entry requirements for the programme, please feel free to contact Graduate Admissions at +44 (0)20 8059 0939 or [graduateschool@ucl.ac.uk](mailto:graduateschool@ucl.ac.uk).\n",
      "\n",
      "Thank you again for your interest in the MSc in Software Engineering at UCL. We look forward to receiving your application.\n",
      "\n",
      "Best regards,\n",
      "\n",
      "David Frischer\n",
      "Program Administrator, MSc in Software Engineering\n"
     ]
    }
   ],
   "source": [
    "textResponse = response['textResponse']\n",
    "print(textResponse)"
   ]
  },
  {
   "cell_type": "markdown",
   "metadata": {},
   "source": [
    "## Mutiple Step Process"
   ]
  },
  {
   "cell_type": "code",
   "execution_count": 2,
   "metadata": {},
   "outputs": [
    {
     "name": "stdout",
     "output_type": "stream",
     "text": [
      "Total Sim Distance: 0.39253494143486023\n",
      "Total Sim Distance: 0.5035082548856735\n",
      "Total Sim Distance: 0.41801171004772186\n"
     ]
    }
   ],
   "source": [
    "\n",
    "new_email = Email(\n",
    "  body=body,\n",
    "  subject=subject,\n",
    "  id=-1,\n",
    ")\n",
    "path_output = \"response.json\"\n",
    "results = generator.single_run_reply_to_email(new_email, path_output)"
   ]
  },
  {
   "cell_type": "code",
   "execution_count": 9,
   "metadata": {},
   "outputs": [
    {
     "name": "stdout",
     "output_type": "stream",
     "text": [
      "Subject: Re: Application Questions for MSc in Software Engineering at UCL\n",
      "\n",
      "Dear John,\n",
      "\n",
      "Thank you for your interest in our Master's degree program in Software Engineering at University College London (UCL). I'm happy to help clarify some essential details before submitting your application.\n",
      "\n",
      "**Regarding your first question:** As an international student, you do need to demonstrate English language proficiency. Please check the entry requirements section of your programme's prospectus page or visit our English language requirements webpage for specific information on English language tests and scores required.\n",
      "\n",
      "**For your second question:** As an international student at UCL, you are allowed to work part-time. You can find more information on your fee status and the implications of working during your studies by visiting our Student Fee Status webpages. Additionally, please check with your academic department or supervisor for any specific guidelines or restrictions related to employment during your graduate program.\n",
      "\n",
      "**Finally, regarding your third question:** You may submit applications for a maximum of two taught graduate programmes for entry to the 2024/25 academic year. For full details on application fees, please visit our Application fees webpages. In general, a standard application processing fee applies for most graduate taught programmes, with a small number of exceptions.\n",
      "\n",
      "I hope this helps clarify things for you. If you have any further questions or concerns, please don't hesitate to reach out to me at [your email address] or +[phone number].\n",
      "\n",
      "Best regards,\n",
      "David\n",
      "Program Administrator, MSc Software Engineering\n"
     ]
    }
   ],
   "source": [
    "print(results[\"generated_draft_email\"])"
   ]
  },
  {
   "cell_type": "markdown",
   "metadata": {},
   "source": [
    "## Generate for multiple drafts"
   ]
  },
  {
   "cell_type": "markdown",
   "metadata": {},
   "source": []
  }
 ],
 "metadata": {
  "kernelspec": {
   "display_name": "venv",
   "language": "python",
   "name": "python3"
  },
  "language_info": {
   "codemirror_mode": {
    "name": "ipython",
    "version": 3
   },
   "file_extension": ".py",
   "mimetype": "text/x-python",
   "name": "python",
   "nbconvert_exporter": "python",
   "pygments_lexer": "ipython3",
   "version": "3.12.3"
  }
 },
 "nbformat": 4,
 "nbformat_minor": 2
}
