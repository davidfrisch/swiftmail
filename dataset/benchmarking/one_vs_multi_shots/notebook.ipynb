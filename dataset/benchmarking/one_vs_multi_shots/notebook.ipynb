{
 "cells": [
  {
   "cell_type": "markdown",
   "metadata": {},
   "source": [
    "## Goal\n",
    "We want to explore how better is the performance of the system of generating a draft with a multiple step process rather than a single step process"
   ]
  },
  {
   "cell_type": "markdown",
   "metadata": {},
   "source": [
    "### Initial Variables"
   ]
  },
  {
   "cell_type": "code",
   "execution_count": 4,
   "metadata": {},
   "outputs": [
    {
     "name": "stdout",
     "output_type": "stream",
     "text": [
      "Performing health check on http://localhost:11434\n",
      "Ollama is running\n",
      "Health check passed\n"
     ]
    }
   ],
   "source": [
    "import sys \n",
    "import os\n",
    "import json_tricks as json\n",
    "import time\n",
    "from dotenv import load_dotenv\n",
    "load_dotenv('../../backend/.env')\n",
    "sys.path.append(\"../../\")\n",
    "from backend.LLM.AnythingLLM_client import AnythingLLMClient\n",
    "from backend.Generater import Generater\n",
    "from backend.LLM.OllamaLLM import OllamaAI\n",
    "from backend.database.schemas import Email\n",
    "\n",
    "\n",
    "anyllm_client = AnythingLLMClient(\"http://localhost:3001/api\", \"3WMNAPZ-GYH4RBE-M67SR00-7Y7KYEF\")\n",
    "ollama_client = OllamaAI('http://localhost:11434', 'llama3:instruct')\n",
    "generator = Generater(ollama_client, anyllm_client)\n",
    "path_to_enquiry = \"../../dataset/fake_email_1.json\"\n",
    "with open(path_to_enquiry, \"r\") as f:\n",
    "    enquiry = json.load(f)\n",
    "\n",
    "enquiry_text = enquiry[\"email\"]\n",
    "subject = enquiry_text.split(\"\\n\\n\")[0]\n",
    "body = '\\n'.join(enquiry_text.split(\"\\n\\n\")[1:])"
   ]
  },
  {
   "cell_type": "markdown",
   "metadata": {},
   "source": [
    "### Single Step Process"
   ]
  },
  {
   "cell_type": "code",
   "execution_count": 2,
   "metadata": {},
   "outputs": [],
   "source": [
    "\n",
    "def single_shot_prompt(email: Email):\n",
    "    prompt = f\"\"\" You are David Frischer, the program administrator for the UCL Software Engineering program.\n",
    "            You have received the following enquiry from a student:\n",
    "            Subject: {email.subject}\n",
    "            Body: {email.body}\n",
    "            \n",
    "           \n",
    "            Draft a response to the student's email.\n",
    "            \"\"\"\n",
    "    workspace_slug =  anyllm_client.get_workspace_slug(\"General\")\n",
    "    thread = anyllm_client.new_thread(workspace_slug, \"tmp-thread\")\n",
    "    thread_slug = thread[\"slug\"]\n",
    "    start_time = time.time()\n",
    "    response = anyllm_client.chat_with_thread(workspace_slug, thread_slug, prompt)\n",
    "    total_time = time.time() - start_time\n",
    "    anyllm_client.delete_thread(workspace_slug, thread_slug)\n",
    "    return response, total_time"
   ]
  },
  {
   "cell_type": "markdown",
   "metadata": {},
   "source": [
    "### Response format"
   ]
  },
  {
   "cell_type": "markdown",
   "metadata": {},
   "source": [
    "## Mutiple Step Process"
   ]
  },
  {
   "cell_type": "code",
   "execution_count": 3,
   "metadata": {},
   "outputs": [],
   "source": [
    "def multi_step_process(email:Email):\n",
    "    start_time = time.time()\n",
    "    response = generator.single_run_reply_to_email(email)\n",
    "    response_time = time.time() - start_time\n",
    "    \n",
    "    return response, response_time\n",
    "    "
   ]
  },
  {
   "cell_type": "markdown",
   "metadata": {},
   "source": [
    "## Generate for multiple drafts"
   ]
  },
  {
   "cell_type": "code",
   "execution_count": 4,
   "metadata": {},
   "outputs": [
    {
     "name": "stdout",
     "output_type": "stream",
     "text": [
      "Already processed fake_email_10.json\n",
      "Already processed fake_email_undergrad_13.json\n",
      "Already processed fake_email_undergrad_6.json\n",
      "Already processed fake_email_3.json\n",
      "Already processed fake_email_2.json\n",
      "Already processed fake_email_undergrad_7.json\n",
      "Already processed fake_email_undergrad_12.json\n",
      "Already processed fake_email_11.json\n",
      "Already processed fake_email_undergrad_0.json\n",
      "Already processed fake_email_undergrad_19.json\n",
      "Already processed fake_email_5.json\n",
      "Already processed fake_email_16.json\n",
      "Already processed fake_email_undergrad_15.json\n",
      "Already processed fake_email_9.json\n",
      "Already processed fake_email_8.json\n",
      "Already processed fake_email_undergrad_14.json\n",
      "Already processed fake_email_17.json\n",
      "Skipping __pycache__\n",
      "Already processed fake_email_4.json\n",
      "Already processed fake_email_undergrad_18.json\n",
      "Already processed fake_email_undergrad_1.json\n",
      "Already processed fake_email_7.json\n",
      "Skipping bank_questions.py\n",
      "Already processed fake_email_undergrad_2.json\n",
      "Already processed fake_email_18.json\n",
      "Already processed fake_email_undergrad_17.json\n",
      "Already processed fake_email_14.json\n",
      "Already processed fake_email_15.json\n",
      "Already processed fake_email_undergrad_16.json\n",
      "Already processed fake_email_19.json\n",
      "Already processed fake_email_undergrad_3.json\n",
      "Processing fake_email_6.json\n",
      "Creating new thread with name: tmp-thread in workspace: general\n"
     ]
    },
    {
     "name": "stderr",
     "output_type": "stream",
     "text": [
      "[ERROR] Expecting value: line 1 column 1 (char 0)\n",
      "[ERROR] Expecting value: line 1 column 1 (char 0)\n"
     ]
    },
    {
     "name": "stdout",
     "output_type": "stream",
     "text": [
      "Creating new thread with name: new_thread in workspace: general\n",
      "Total Sim Distance: 0.3058445304632187\n",
      "Total Sim Distance: 0.3207991123199463\n",
      "['Question: As a prospective graduate student, can I apply for multiple programs simultaneously? If yes, are there any specific procedures or requirements I need to follow?\\nAnswer: Based on the provided context from UCL\\'s website, the answer to your question is:\\n\\nYes, as a prospective graduate student, you may submit applications for a maximum of two taught graduate programmes for entry to the 2024/25 academic year. The applications must be for different programs. Please note that if an application fee is charged, it will be charged per application.\\n\\nThis information can be found in the \"Applications\" section of UCL\\'s Frequently Asked Questions (FAQs) for prospective students applying to graduate taught and research programmes. \\n-------\\n', \"Question: I am interested in gaining accreditation for prior learning as part of my MSc application. Could you please guide me on whether this is possible and if so, what are the specific requirements or documentation needed to facilitate this process?\\nAnswer: Based on the provided context from UCL's website, the answer to your question is:\\n\\nYes, it is possible to gain accreditation for prior learning as part of your MSc application. If you would like to gain accreditation for prior learning, please read through our Recognition of Prior Learning (RPL) policy (UCL Academic Manual, Chapter 1, section 2.8) to check that you are eligible.\\n\\nPlease note that recognition of prior learning will reduce the number of credits you are studying at UCL and therefore this may impact on your mode of attendance, liability for tuition fees, eligibility for forms of student finance and the final degree classification you are able to achieve. Before making an application for RPL, you should contact our Fees or Funding teams or your student loan provider to confirm what impact gaining accreditation for prior learning could have on your tuition fees, mode of attendance and student loan eligibility.\\n\\nAdditionally, please be aware that if your request for recognition for prior learning is approved, you will not be eligible for the Postgraduate Student Loan. \\n-------\\n\"]\n"
     ]
    },
    {
     "name": "stderr",
     "output_type": "stream",
     "text": [
      "[ERROR] Expecting value: line 1 column 1 (char 0)\n",
      "[ERROR] Expecting value: line 1 column 1 (char 0)\n"
     ]
    },
    {
     "name": "stdout",
     "output_type": "stream",
     "text": [
      "Processing fake_email_undergrad_11.json\n",
      "Creating new thread with name: tmp-thread in workspace: general\n"
     ]
    },
    {
     "name": "stderr",
     "output_type": "stream",
     "text": [
      "[ERROR] Expecting value: line 1 column 1 (char 0)\n",
      "[ERROR] Expecting value: line 1 column 1 (char 0)\n"
     ]
    },
    {
     "name": "stdout",
     "output_type": "stream",
     "text": [
      "Creating new thread with name: new_thread in workspace: general\n",
      "Total Sim Distance: 0.3441285043954849\n",
      "Total Sim Distance: 0.34534816443920135\n",
      "Total Sim Distance: 0.3344442844390869\n",
      "[\"Question: Could you please let me know if this would be considered during the evaluation of my application?\\nAnswer: Based on the provided contexts, I'd be happy to help answer your question.\\n\\nAs a prospective student applying for an undergraduate program in Computer Science at University College London (UCL), you're wondering if being a mature student looking to make a career change would be considered during the evaluation of your application.\\n\\nAccording to Context 0, Undergraduate Admissions mentions that they have a FAQ section on their website. If you cannot find the information you need or have questions regarding the entry requirements for a programme, please contact Undergraduate Admissions.\\n\\nIn this case, I'd recommend contacting the Undergraduate Admissions team directly to inquire about how your background as a mature student looking to make a career change would be considered during the evaluation of your application. You can reach them at +44 (0)20 8059 0939 or through their website.\\n\\nAdditionally, you may want to review Context 1, which discusses entry requirements and competitiveness for undergraduate programs. This might provide some insight into how UCL evaluates applications.\\n\\nPlease let me know if there's anything else I can help with! \\n-------\\n\", \"Question: Would the university consider applications from mature students who do not meet the typical entry requirements but have relevant work experience and skills in computer science?\\nAnswer: Based on the provided contexts, I'd be happy to help answer your question.\\n\\nAccording to Context 2, UCL welcomes applications from mature students. The Engineering Foundation Year eligibility section mentions that they consider applications from mature students.\\n\\nIn this case, it seems likely that UCL would consider applications from mature students who do not meet the typical entry requirements but have relevant work experience and skills in computer science. This is because you've mentioned being a mature student looking to make a career change, which aligns with the guidance provided for mature students on the website.\\n\\nHowever, it's always best to confirm this information directly with the Undergraduate Admissions team or the department of Computer Science at UCL. You can reach them at +44 (0)20 8059 0939 or through their website.\\n\\nPlease let me know if there's anything else I can help with! \\n-------\\n\", \"Question: If so, are there any additional procedures or requirements I need to be aware of while making multiple applications?\\nAnswer: Based on the provided contexts, I'd be happy to help answer your question.\\n\\nAccording to Context 1, it is recommended that you only apply to programs where you meet or are expected to achieve the minimum academic entry requirement. This suggests that applying to multiple programs may not be necessary if you don't meet the typical entry requirements.\\n\\nHowever, since you're a mature student looking to make a career change, you might want to consider applying to multiple programs to increase your chances of getting accepted into one that aligns with your skills and experience.\\n\\nIf you do decide to apply to multiple programs, please be aware that:\\n\\n1. You should only apply to programs where you meet or are expected to achieve the minimum academic entry requirement.\\n2. UCL will request any missing information required to support an application, so make sure you're prepared to provide any additional documents or information as needed.\\n\\nIt's also important to note that Context 0 mentions that entry to the program is very competitive, and the number of applications received exceeds the number of places available. This means that even if you meet the minimum academic entry requirement, there are no guarantees of acceptance.\\n\\nTo ensure a smooth application process, I recommend contacting the Undergraduate Admissions team directly to inquire about any additional procedures or requirements for making multiple applications. You can reach them at +44 (0)20 8059 0939 or through their website.\\n\\nPlease let me know if there's anything else I can help with! \\n-------\\n\"]\n"
     ]
    },
    {
     "name": "stderr",
     "output_type": "stream",
     "text": [
      "[ERROR] Expecting value: line 1 column 1 (char 0)\n",
      "[ERROR] Expecting value: line 1 column 1 (char 0)\n"
     ]
    },
    {
     "name": "stdout",
     "output_type": "stream",
     "text": [
      "Processing fake_email_undergrad_8.json\n",
      "Creating new thread with name: tmp-thread in workspace: general\n"
     ]
    },
    {
     "name": "stderr",
     "output_type": "stream",
     "text": [
      "[ERROR] Expecting value: line 1 column 1 (char 0)\n",
      "[ERROR] Expecting value: line 1 column 1 (char 0)\n"
     ]
    },
    {
     "name": "stdout",
     "output_type": "stream",
     "text": [
      "Creating new thread with name: new_thread in workspace: general\n",
      "Total Sim Distance: 0.3353770971298218\n",
      "Total Sim Distance: 0.30507592856884\n",
      "Total Sim Distance: 0.34347236156463623\n",
      "[\"Question: Could you please provide me with an explanation of what this means? Is it still being processed or are there any additional documents required from me?\\nAnswer: Dear Lewis,\\n\\nThank you for your inquiry. I'm happy to help clarify the status of your application.\\n\\nA 'gathered field' is a way we assess applications at UCL, especially when we receive a large number of strong candidates. It means that all applications are being evaluated in the same fair and consistent manner, regardless of the submission date (October or January UCAS deadline). This approach ensures that we can make an informed decision once we have enough comparable applications.\\n\\nIn your case, it simply means that we need to wait until we've received and processed all other applications before making a final decision on yours. You don't need to submit any additional documents at this time. We will contact you via email if there's anything missing or if we require further information from you.\\n\\nPlease rest assured that your application is still being considered, and we'll keep you updated once a decision has been made.\\n\\nBest regards,\\nUCL Admissions Team \\n-------\\n\", \"Question: Is it possible to apply for more than one undergraduate program at UCL?\\nAnswer: Dear Lewis,\\n\\nThank you for your inquiry about the 'gathered field' status of your application. I'll be happy to help clarify that later.\\n\\nRegarding your question, according to our policy (Context 3), you can only apply for a maximum of one undergraduate program at UCL. This is stated in our frequently asked questions section.\\n\\nSince you're currently studying at another university and wish to transfer to UCL's Computer Science program, I would recommend focusing on this one application. If your application is successful, we'll work with your current institution to facilitate the transfer process.\\n\\nPlease note that if your application is not successful, or if you decide to apply to other programs, you will need to reapply through UCAS and meet our first-year entrance requirements as detailed in our prospectus.\\n\\nI hope this information helps. If you have any further questions or concerns about your 'gathered field' status or the transfer process, please don't hesitate to reach out.\\n\\nBest regards,\\nUCL Admissions Team \\n-------\\n\", \"Question: What are the necessary steps I need to take to initiate a transfer? Are there any specific requirements or deadlines that I should be aware of?\\nAnswer: Dear Lewis,\\n\\nThank you for your inquiry about the 'gathered field' status of your application. As we discussed earlier, this simply means that all applications are being evaluated in the same fair and consistent manner.\\n\\nRegarding your question about transferring to UCL's Computer Science program from another university, I'd be happy to guide you through the process.\\n\\nTo initiate a transfer, please follow these steps:\\n\\n1. Check our undergraduate prospectus for the specific entry requirements and deadlines for the Computer Science program.\\n2. Ensure that your current university has a formal agreement with UCL regarding transfer of credits. This is essential for us to recognize your previous academic work.\\n3. Meet with your current university's academic advisor to discuss your plans and obtain their support for the transfer.\\n4. Apply through UCAS, using the Transfer application route. Make sure to select the correct program code (UCAS code) for UCL's Computer Science program.\\n5. Submit any required documents, such as academic transcripts and a personal statement.\\n\\nPlease note that the deadline for transfer applications typically falls in January, but this may vary depending on the program you're applying to. I recommend checking our website or contacting the admissions team directly for specific deadlines.\\n\\nOnce your application is successful, we'll work with your current institution to facilitate the transfer process. This usually involves transferring credits and ensuring a smooth transition into your new program at UCL.\\n\\nIf you have any further questions or concerns about the transfer process, please don't hesitate to reach out. We're here to help.\\n\\nBest regards,\\nUCL Admissions Team \\n-------\\n\"]\n"
     ]
    },
    {
     "name": "stderr",
     "output_type": "stream",
     "text": [
      "[ERROR] Expecting value: line 1 column 1 (char 0)\n",
      "[ERROR] Expecting value: line 1 column 1 (char 0)\n"
     ]
    },
    {
     "name": "stdout",
     "output_type": "stream",
     "text": [
      "Processing fake_email_12.json\n",
      "Creating new thread with name: tmp-thread in workspace: general\n"
     ]
    },
    {
     "name": "stderr",
     "output_type": "stream",
     "text": [
      "[ERROR] Expecting value: line 1 column 1 (char 0)\n",
      "[ERROR] Expecting value: line 1 column 1 (char 0)\n"
     ]
    },
    {
     "name": "stdout",
     "output_type": "stream",
     "text": [
      "Creating new thread with name: new_thread in workspace: general\n",
      "Total Sim Distance: 0.318282887339592\n",
      "Total Sim Distance: 0.31011562049388885\n",
      "Total Sim Distance: 0.32173942029476166\n",
      "[\"Question: As per your offer letter, I have accepted my place on the programme, but unfortunately, due to unforeseen circumstances, I may no longer be able to attend.\\nAnswer: Based on the provided contexts from UCL's website, here is a potential response to the student's email:\\n\\nDear [Student],\\n\\nThank you for your email and for accepting your place on our programme. We understand that unforeseen circumstances can arise, and we want to support you through this process.\\n\\nIf you are no longer able to attend the programme, please reach out to us as soon as possible so that we can discuss the next steps. You will need to contact UCL Admissions to formally withdraw your application.\\n\\nPlease note that if you have already paid a tuition fee deposit, it is unlikely that you would be eligible for a full or partial refund. However, we recommend checking with our Student Fees team to confirm their policy on refunds and any potential penalties associated with withdrawal.\\n\\nRegarding deadlines, the deadline for accepting an offer typically does not apply in this scenario. However, if you have already paid a tuition fee deposit, it is essential to check with our Student Fees team regarding any deadlines or penalties associated with withdrawing your application.\\n\\nWe would appreciate it if you could provide us with more information about the unforeseen circumstances that have led to your decision. This will enable us to better understand your situation and potentially offer support or guidance where possible.\\n\\nPlease feel free to contact me at [johndoe@email.com](mailto:johndoe@email.com) or +44 0123456789 if you require any additional information or would like to discuss this further.\\n\\nBest regards,\\n\\n[UCL Admissions Team] \\n-------\\n\", \"Question: Specifically, what are the procedures for cancelling or withdrawing from the programme after accepting an offer?\\nAnswer: Based on the provided contexts from UCL's website, here is a potential response to the student's email:\\n\\nDear [Student],\\n\\nThank you for your email. If you have accepted an offer and wish to cancel or withdraw from the programme, please follow these procedures:\\n\\n1. Contact our Admissions Team: Reach out to us via email at [admissions@ucl.ac.uk](mailto:admissions@ucl.ac.uk) or by phone on +44 (0)20 3108 2200. We will guide you through the process and provide any necessary forms.\\n2. Complete a Withdrawal Form: You will need to submit a formal withdrawal request, which can be found on our website or obtained from our Admissions Team.\\n3. Confirm Your Decision: Once we receive your completed withdrawal form, we will confirm your decision in writing.\\n\\nPlease note that if you have already paid a tuition fee deposit, it is unlikely that you would be eligible for a full or partial refund. However, we recommend checking with our Student Fees team to confirm their policy on refunds and any potential penalties associated with withdrawal.\\n\\nRegarding deadlines, the deadline for accepting an offer typically does not apply in this scenario. However, if you have already paid a tuition fee deposit, it is essential to check with our Student Fees team regarding any deadlines or penalties associated with withdrawing your application.\\n\\nWe appreciate your prompt notification, and we will do our best to support you through this process. If you require any additional information or would like to discuss this further, please feel free to contact me at [johndoe@email.com](mailto:johndoe@email.com) or +44 0123456789.\\n\\nBest regards,\\n\\n[UCL Admissions Team] \\n-------\\n\", \"Question: I would appreciate it if you could provide me with clear guidance on how to proceed.\\nAnswer: Based on the provided contexts from UCL's website, here is a potential response:\\n\\nDear [Student],\\n\\nThank you for your email and for reaching out to us. We understand that unforeseen circumstances can arise, and we want to support you through this process.\\n\\nIf you are no longer able to attend the programme, please follow these steps:\\n\\n1. Contact our Admissions Team: Reach out to us via email at [admissions@ucl.ac.uk](mailto:admissions@ucl.ac.uk) or by phone on +44 (0)20 3108 2200.\\n2. Complete a Withdrawal Form: You will need to submit a formal withdrawal request, which can be found on our website or obtained from our Admissions Team.\\n3. Confirm Your Decision: Once we receive your completed withdrawal form, we will confirm your decision in writing.\\n\\nRegarding deadlines and penalties, please note that if you have already paid a tuition fee deposit, it is unlikely that you would be eligible for a full or partial refund. However, we recommend checking with our Student Fees team to confirm their policy on refunds and any potential penalties associated with withdrawal.\\n\\nWe appreciate your prompt notification, and we will do our best to support you through this process. If you require any additional information or would like to discuss this further, please feel free to contact me at [johndoe@email.com](mailto:johndoe@email.com) or +44 0123456789.\\n\\nBest regards,\\n\\n[UCL Admissions Team] \\n-------\\n\"]\n"
     ]
    },
    {
     "name": "stderr",
     "output_type": "stream",
     "text": [
      "[ERROR] Expecting value: line 1 column 1 (char 0)\n",
      "[ERROR] Expecting value: line 1 column 1 (char 0)\n"
     ]
    },
    {
     "name": "stdout",
     "output_type": "stream",
     "text": [
      "Processing fake_email_1.json\n",
      "Creating new thread with name: tmp-thread in workspace: general\n"
     ]
    },
    {
     "name": "stderr",
     "output_type": "stream",
     "text": [
      "[ERROR] Expecting value: line 1 column 1 (char 0)\n",
      "[ERROR] Expecting value: line 1 column 1 (char 0)\n"
     ]
    },
    {
     "name": "stdout",
     "output_type": "stream",
     "text": [
      "Creating new thread with name: new_thread in workspace: general\n",
      "Total Sim Distance: 0.3133559674024582\n",
      "Total Sim Distance: 0.34982986748218536\n",
      "Total Sim Distance: 0.33583691716194153\n",
      "['Question: As an international student, do I need to take a recognized English language proficiency test (e.g., IELTS or TOEFL) prior to applying for the MSc program in Software Engineering? If so, are there any specific scores required?\\nAnswer: Based on the provided context from UCL\\'s prospective students graduate frequently asked questions page, you do not need to take a recognized English language proficiency test (e.g., IELTS or TOEFL) prior to applying for the MSc program in Software Engineering.\\n\\nAccording to the information, \"The English language requirements for a programme are stated on the programme’s prospectus page. You may be required to meet one of UCL’s five levels of English language proficiency, or obtain specific scores in a UCL-recognised test.\"\\n\\nIt is recommended that you check the prospectus page for your chosen program to determine the specific English language requirements. \\n-------\\n', 'Question: Can international students like myself work part-time during their studies at UCL? Are there any restrictions or guidelines that I should be aware of regarding employment during my graduate program?\\nAnswer: According to the provided context from UCL\\'s prospective students graduate frequently asked questions page, international students can work part-time during their studies at UCL. The answer is:\\n\\n\"International students are allowed to work up to 20 hours per week during term time and full-time during vacations. However, please note that you will need to register with the Student Services Centre and obtain a National Insurance Number before starting any paid employment.\"\\n\\nIt is recommended that you check the prospectus page for your chosen program or contact Graduate Admissions directly if you have further questions regarding employment during your graduate program at UCL. \\n-------\\n', 'Question: Do I need to pay an application fee for each master\\'s degree program that I apply to, including the MSc in Software Engineering? If so, what is the amount of the application fee and are there any exemptions available?\\nAnswer: According to the provided context from UCL\\'s prospective students graduate frequently asked questions page, you will need to pay an application fee for each master\\'s degree program that you apply to, including the MSc in Software Engineering. The answer is:\\n\\n\"A standard application processing fee applies for most graduate taught programmes, with a small number of exceptions.\\n\\nFor full details, read more about Application fees.\\n\\nDo I have to pay an application fee for each application I make?\\n\\nYes, if you apply for more than one programme the fee is payable for each application that requires an application fee.\"\\n\\nAs for the amount of the application fee, it is not specified in the provided context. However, according to UCL\\'s Application Fees page, the standard application processing fee is £25 (approximately $33 USD). \\n-------\\n']\n"
     ]
    },
    {
     "name": "stderr",
     "output_type": "stream",
     "text": [
      "[ERROR] Expecting value: line 1 column 1 (char 0)\n",
      "[ERROR] Expecting value: line 1 column 1 (char 0)\n"
     ]
    },
    {
     "name": "stdout",
     "output_type": "stream",
     "text": [
      "Processing fake_email_undergrad_4.json\n",
      "Creating new thread with name: tmp-thread in workspace: general\n"
     ]
    },
    {
     "name": "stderr",
     "output_type": "stream",
     "text": [
      "[ERROR] Expecting value: line 1 column 1 (char 0)\n",
      "[ERROR] Expecting value: line 1 column 1 (char 0)\n"
     ]
    },
    {
     "name": "stdout",
     "output_type": "stream",
     "text": [
      "Creating new thread with name: new_thread in workspace: general\n",
      "Total Sim Distance: 0.3757656663656235\n",
      "Total Sim Distance: 0.36498455703258514\n",
      "[\"Question: Could you please guide me on the application process for transfer students? What are the specific requirements and deadlines that I need to be aware of? Are there any additional documents or information that I should provide to support my application?\\nAnswer: Thank you for your interest in transferring to University College London (UCL) for the undergraduate program in Computer Science. As a current student studying computer science, you have already met the entry requirements for the program and possess a strong academic background.\\n\\nTo apply as a transfer student, please follow these steps:\\n\\n1. Check the eligibility: Ensure that you meet UCL's transfer student criteria, which includes having completed at least one year of undergraduate study at your current institution.\\n2. Research programs: Review UCL's Computer Science programs to determine if they align with your academic and professional goals.\\n3. Meet the requirements: Familiarize yourself with UCL's transfer student admission requirements, including English language proficiency, academic performance, and any specific program prerequisites.\\n4. Submit an application: Apply through UCAS (Universities and Colleges Admissions Service) using the transfer student application form. You will need to provide your current university's transcript, a personal statement, and one or two academic references.\\n\\nDeadlines:\\n\\n* Applications typically open in September for entry in October of the following year.\\n* The deadline for applications is usually in January.\\n* However, please note that some programs may have earlier deadlines, so it's essential to check with UCL directly for specific program deadlines.\\n\\nAdditional documents and information:\\n\\n1. Transcripts: You will need to provide your current university's transcript, which should include your academic performance to date.\\n2. Personal statement: Write a compelling personal statement outlining your reasons for transferring, academic achievements, and career goals.\\n3. Academic references: Obtain one or two academic references from your current university professors or advisors.\\n4. Proof of English language proficiency: If your first language is not English, you may need to provide evidence of your English language proficiency.\\n\\nBefore submitting your application, please review UCL's transfer student guidance and FAQs for additional information on the application process and requirements.\\n\\nI hope this helps! If you have any further questions or concerns, please don't hesitate to reach out. \\n-------\\n\", \"Question: Are there any specific requirements for transfer students regarding grades, credits, or other qualifications?\\nAnswer: Thank you for reaching out to UCL about transferring into our undergraduate program in Computer Science.\\n\\nRegarding your query, yes, we do have specific requirements for transfer students. As a transfer student, you will need to meet the following criteria:\\n\\n1. Academic performance: You must have achieved a strong academic record at your current institution, with a minimum overall grade point average (GPA) of 3.0 or equivalent.\\n2. Credits and grades: You should have completed at least one year of undergraduate study at your current institution, with a sufficient number of credits to demonstrate your ability to succeed in our program.\\n3. Relevant courses: You must have taken relevant computer science courses that align with our program's curriculum.\\n\\nIn terms of qualifications, we require the following:\\n\\n1. A-levels or equivalent: If you're transferring from a school-leaving qualification, we need to see evidence of your academic achievements.\\n2. Bachelor's degree or equivalent: If you're transferring from a university, we need to see evidence of your undergraduate degree and academic performance.\\n\\nPlease note that UCL will assess your academic record and determine whether you meet our transfer student criteria. We may request additional information or clarification on specific courses or grades if needed.\\n\\nRegarding tuition fees and financial aid, I'd be happy to provide more information once you submit an application. As an international student, you'll need to consider the costs associated with studying at UCL, including tuition fees, living expenses, and other expenses.\\n\\nIf you have any further questions or concerns, please don't hesitate to reach out. We're here to support your transfer process and answer any questions you may have.\\n\\nBest regards,\\n[Your Name]\\nUCL Admissions Team \\n-------\\n\"]\n"
     ]
    },
    {
     "name": "stderr",
     "output_type": "stream",
     "text": [
      "[ERROR] Expecting value: line 1 column 1 (char 0)\n",
      "[ERROR] Expecting value: line 1 column 1 (char 0)\n"
     ]
    },
    {
     "name": "stdout",
     "output_type": "stream",
     "text": [
      "Skipping urls.py\n",
      "Processing fake_email_undergrad_5.json\n",
      "Creating new thread with name: tmp-thread in workspace: general\n"
     ]
    },
    {
     "name": "stderr",
     "output_type": "stream",
     "text": [
      "[ERROR] Expecting value: line 1 column 1 (char 0)\n",
      "[ERROR] Expecting value: line 1 column 1 (char 0)\n"
     ]
    },
    {
     "name": "stdout",
     "output_type": "stream",
     "text": [
      "Creating new thread with name: new_thread in workspace: general\n",
      "Total Sim Distance: 0.36568671464920044\n",
      "Total Sim Distance: 0.3324035257101059\n",
      "Total Sim Distance: 0.3824188560247421\n",
      "[\"Question: Could you please clarify what this means? Is it simply a matter of awaiting further review or are there additional steps that need to be completed before my application can proceed?\\nAnswer: Based on the provided contexts, I'd say that UCL will determine your fee status in line with regulations published by the UK government. You can find more information about fee status determination on their website.\\n\\nIn response to your question, it seems that you're asking for clarification on what happens next after submitting your application. According to Context 2, if you receive an offer of admission to UCL and believe that your fee status has been incorrectly assessed, you can request a review of the assessment.\\n\\nFor now, it appears that your application is being processed, and you'll need to await further review or additional steps before proceeding. \\n-------\\n\", \"Question: Additionally, I would appreciate some guidance on when I can expect to receive a decision regarding my fee status.\\nAnswer: Based on the provided contexts, I'd say that UCL aims to provide you with the outcome of your fee status assessment before you need to make your Firm and Insurance decisions. However, in some cases it may not be possible to do this if additional information is required from you to inform our decision.\\n\\nIf further information is needed, they'll email you a Fee Status Questionnaire for you to complete. As for when you can expect to receive a decision regarding your fee status, UCL aims to make their decisions by the end of April but are working hard to send decisions sooner. Please be assured that they will communicate their decision to you as soon as they are able to. \\n-------\\n\", \"Question: Lastly, could you please let me know if there are any additional documents or information that I need to submit in support of my application?\\nAnswer: According to Context 0, UCL will request any missing information required to support an application. They recommend not sending information that has not been requested.\\n\\nIn your case, since you've already submitted your application, if UCL requires any additional documents or information to process your application, they will contact you by email and ask you to upload them securely to Portico (UCL's applicant portal). \\n-------\\n\"]\n"
     ]
    },
    {
     "name": "stderr",
     "output_type": "stream",
     "text": [
      "[ERROR] Expecting value: line 1 column 1 (char 0)\n",
      "[ERROR] Expecting value: line 1 column 1 (char 0)\n"
     ]
    },
    {
     "name": "stdout",
     "output_type": "stream",
     "text": [
      "Processing fake_email_0.json\n",
      "Creating new thread with name: tmp-thread in workspace: general\n"
     ]
    },
    {
     "name": "stderr",
     "output_type": "stream",
     "text": [
      "[ERROR] Expecting value: line 1 column 1 (char 0)\n",
      "[ERROR] Expecting value: line 1 column 1 (char 0)\n"
     ]
    },
    {
     "name": "stdout",
     "output_type": "stream",
     "text": [
      "Creating new thread with name: new_thread in workspace: general\n",
      "Total Sim Distance: 0.337510347366333\n",
      "Total Sim Distance: 0.3457774370908737\n",
      "Total Sim Distance: 0.34567077457904816\n",
      "Total Sim Distance: 0.34411947429180145\n",
      "[\"Question: Are there any alternative arrangements that can be made in this situation? Are there any specific instructions or forms that I need to complete to facilitate the official transcript being sent directly from my university to UCL?\\nAnswer: According to Context 1, you can upload a word document to your application confirming that you will submit your application through your University's transcript service. Once you have submitted your application, please have your University's transcript service send your transcript to transcripts.pgadmissions@ucl.ac.uk.\\n\\nSo, in this situation, it seems that there are alternative arrangements that can be made. You just need to confirm the arrangement by uploading a word document to your application and then instruct your university to send the official transcript directly to UCL via the specified email address. \\n-------\\n\", \"Question: Could you please let me know if there are any alternative arrangements that can be made in this situation?\\nAnswer: According to Context 2, yes, there is an alternative arrangement that can be made. You can upload a word document to your application confirming that you will submit your transcript through your University's transcript service, and then have your university send the official transcript directly to UCL via the specified email address (transcripts.pgadmissions@ucl.ac.uk). \\n-------\\n\", 'Question: Could you please provide me with information on how to formally withdraw my application and inform the university that I will be declining the offer?\\nAnswer: According to Context 3, if you would like us to remove your details from our systems, you will need to submit a request to the UCL Data Protection team. This suggests that to formally withdraw your application and decline the offer, you should contact the UCL Data Protection team with your request. \\n-------\\n', 'Question: Would it be possible for you to confirm in writing whether any administrative fees may still be applicable despite withdrawing my application?\\nAnswer: According to Context 1, Application fees are non-refundable. This suggests that if you withdraw your application, any administrative fees would likely still be applicable. \\n-------\\n']\n"
     ]
    },
    {
     "name": "stderr",
     "output_type": "stream",
     "text": [
      "[ERROR] Expecting value: line 1 column 1 (char 0)\n",
      "[ERROR] Expecting value: line 1 column 1 (char 0)\n"
     ]
    },
    {
     "name": "stdout",
     "output_type": "stream",
     "text": [
      "Skipping generated_email_1.txt\n",
      "Processing fake_email_13.json\n",
      "Creating new thread with name: tmp-thread in workspace: general\n"
     ]
    },
    {
     "name": "stderr",
     "output_type": "stream",
     "text": [
      "[ERROR] Expecting value: line 1 column 1 (char 0)\n",
      "[ERROR] Expecting value: line 1 column 1 (char 0)\n"
     ]
    },
    {
     "name": "stdout",
     "output_type": "stream",
     "text": [
      "Creating new thread with name: new_thread in workspace: general\n",
      "Total Sim Distance: 0.33256568014621735\n",
      "[\"Question: Could you please let me know why my application fee payment is not going through? Are there any specific requirements or restrictions that I should be aware of when making the payment?\\nAnswer: Dear John,\\n\\nThank you for reaching out to us about the issue with your application fee payment. We apologize for the inconvenience this has caused and are here to help.\\n\\nThere can be a number of reasons why your payment is not going through, including:\\n\\n* The payment system does not accept special characters, please ensure that you only use anglicised characters when making the payment.\\n* The payment may have been blocked by your card issuer/bank. You should contact them to inform them that you are making an overseas payment.\\n\\nTo resolve this issue, we recommend trying again using a different browser or device. Additionally, you can access Flywire's FAQs, useful videos and articles, and also access the Flywire 24/7 Live Chat and speak with our global support team instantly.\\n\\nIf you continue to experience issues, please feel free to contact us and we will do our best to assist you further.\\n\\nBest regards,\\nUCL Graduate Admissions \\n-------\\n\"]\n"
     ]
    },
    {
     "name": "stderr",
     "output_type": "stream",
     "text": [
      "[ERROR] Expecting value: line 1 column 1 (char 0)\n",
      "[ERROR] Expecting value: line 1 column 1 (char 0)\n"
     ]
    },
    {
     "name": "stdout",
     "output_type": "stream",
     "text": [
      "Processing fake_email_undergrad_9.json\n",
      "Creating new thread with name: tmp-thread in workspace: general\n"
     ]
    },
    {
     "name": "stderr",
     "output_type": "stream",
     "text": [
      "[ERROR] Expecting value: line 1 column 1 (char 0)\n",
      "[ERROR] Expecting value: line 1 column 1 (char 0)\n"
     ]
    },
    {
     "name": "stdout",
     "output_type": "stream",
     "text": [
      "Creating new thread with name: new_thread in workspace: general\n",
      "Total Sim Distance: 0.36567655205726624\n",
      "Total Sim Distance: 0.3674103617668152\n",
      "['Question: Could you please provide me with information on how to apply for transfer? I understand that there may be specific requirements and procedures to follow. I would appreciate any guidance on what I need to do next.\\nAnswer: Dear Lewis,\\n\\nThank you for your interest in transferring to University College London (UCL) to pursue an undergraduate degree in Computer Science. We appreciate your enthusiasm for studying at UCL, and we\\'re happy to guide you through the transfer application process.\\n\\nTo apply for transfer, please follow these steps:\\n\\n1. Check the entry requirements: Review the entry requirements for the Computer Science program at UCL to ensure that you meet the minimum academic qualifications. You can find this information on our website or by contacting the Undergraduate Admissions team.\\n2. Gather required documents: Prepare your academic transcripts and any other relevant documentation, such as a personal statement or references, that demonstrate your academic achievement and potential for success in the program.\\n3. Submit an application: Apply to UCL through the UCAS application system, selecting the \"Transfer\" option. You will need to provide all necessary information, including your academic background, grades, and reasons for wanting to transfer.\\n4. Provide additional information (if required): If we require any additional documents or information to support your application, we will contact you by email and ask you to upload them securely through Portico, our applicant portal.\\n\\nPlease note that the competition for places at UCL is high, so it\\'s essential to ensure that you meet the minimum academic requirements. We recommend applying to programs where you meet or are expected to achieve these requirements.\\n\\nIf you have any questions or concerns about the transfer application process, please don\\'t hesitate to contact us. You can reach out to the Undergraduate Admissions team at [admissions@ucl.ac.uk](mailto:admissions@ucl.ac.uk) or +44 (0)20 8059 0939.\\n\\nWe look forward to receiving your application and reviewing your qualifications.\\n\\nBest regards,\\n[Your Name]\\nUndergraduate Admissions Team\\nUniversity College London \\n-------\\n', \"Question: Would it be possible for you to consider an exception or take into account any mitigating circumstances?\\nAnswer: Dear Lewis,\\n\\nThank you for your email and for expressing interest in transferring to University College London (UCL) to pursue an undergraduate degree in Computer Science. We appreciate your enthusiasm for studying at UCL, and we're happy to consider your application.\\n\\nRegarding your query about potential exceptions or mitigating circumstances, I'd like to inform you that our Admissions Committee does take into account individual circumstances when making decisions. However, please note that the competition for places at UCL is high, and meeting the minimum academic requirements is essential.\\n\\nIf you would like to request consideration for an exception or mitigating circumstances, please provide us with more information about your current studies, any challenges you've faced, and how you believe your skills and experiences make you a strong candidate for our program. You can do this by contacting our Undergraduate Admissions team at [admissions@ucl.ac.uk](mailto:admissions@ucl.ac.uk) or +44 (0)20 8059 0939.\\n\\nAdditionally, I'd like to direct you to our FAQs page, which provides more information on the application process and entry requirements. You can also register interest in your chosen subject to receive notice of undergraduate open days, events, and more.\\n\\nWe appreciate your interest in UCL and look forward to reviewing your application. If you have any further questions or concerns, please don't hesitate to reach out to us.\\n\\nBest regards,\\n[Your Name]\\nUndergraduate Admissions Team\\nUniversity College London \\n-------\\n\"]\n"
     ]
    },
    {
     "name": "stderr",
     "output_type": "stream",
     "text": [
      "[ERROR] Expecting value: line 1 column 1 (char 0)\n",
      "[ERROR] Expecting value: line 1 column 1 (char 0)\n"
     ]
    },
    {
     "name": "stdout",
     "output_type": "stream",
     "text": [
      "Processing fake_email_undergrad_10.json\n",
      "Creating new thread with name: tmp-thread in workspace: general\n"
     ]
    },
    {
     "name": "stderr",
     "output_type": "stream",
     "text": [
      "[ERROR] Expecting value: line 1 column 1 (char 0)\n",
      "[ERROR] Expecting value: line 1 column 1 (char 0)\n"
     ]
    },
    {
     "name": "stdout",
     "output_type": "stream",
     "text": [
      "Creating new thread with name: new_thread in workspace: general\n",
      "Total Sim Distance: 0.31222349405288696\n",
      "Total Sim Distance: 0.3378884643316269\n",
      "Total Sim Distance: 0.3311948627233505\n",
      "['Question: Can I still apply for an undergraduate programme at UCL? If so, would it be possible to receive a conditional offer based on my pending exam results?\\nAnswer: Based on the provided contexts from University College London (UCL), here\\'s an answer to your question:\\n\\nAccording to Context 3, which is related to undergraduate programmes, it states that \"Resits are generally considered for most of our programmes. Any programmes that do not consider resits will outline this on their department webpages.\" Since you\\'re interested in applying for the Computer Science programme at UCL, and you\\'re an adult learner returning to education, it\\'s likely that your case would be considered.\\n\\nRegarding your question about receiving a conditional offer based on your pending exam results, Context 2 provides some guidance. It mentions that \"The required evidence should, if possible, be included with the complete application. However, you can submit your application before you have taken a test. If either unsatisfactory or no evidence of English language proficiency has been provided with the application, admission will be conditional upon the provision of such evidence.\" This implies that UCL does consider conditional offers based on pending exam results.\\n\\nSo, to answer your question:\\n\\nYes, you can still apply for an undergraduate programme at UCL. And, it\\'s possible to receive a conditional offer based on your pending exam results. \\n-------\\n', 'Question: Does UCL make contextual offers for the Computer Science programme? If yes, can you provide more information about this policy and how it applies to international students like myself?\\nAnswer: Based on the provided contexts from University College London (UCL), here\\'s an answer to your question:\\n\\nAccording to Context 3, UCL has a contextual offer scheme called Access UCL. This scheme provides lower offers to students from underrepresented groups who meet certain eligibility criteria. The text states: \"Access UCL is UCL\\'s contextual offer scheme for students from groups that are underrepresented at UCL.\"\\n\\nSince you mentioned being an adult learner returning to education, which might be considered an underrepresented group in the Computer Science programme, it\\'s likely that your case would be considered.\\n\\nRegarding international students like yourself, Context 3 doesn\\'t explicitly state whether Access UCL applies to them. However, since you\\'re interested in applying for the undergraduate programme in Computer Science at University College London (UCL), I would recommend contacting Undergraduate Admissions (as mentioned in Context 2) or checking the Access UCL scheme webpage for more information on eligibility and how it applies to international students.\\n\\nTo answer your question:\\n\\nYes, UCL makes contextual offers through its Access UCL scheme. However, it\\'s unclear whether this scheme applies to international students like yourself. I recommend contacting Undergraduate Admissions or checking the Access UCL scheme webpage for more information. \\n-------\\n', 'Question: Do you consider applications from mature students, and what additional information or documentation would be required as part of my application?\\nAnswer: Based on the provided contexts from University College London (UCL), here\\'s an answer to your question:\\n\\nAccording to Context 3, UCL welcomes applications from mature students. The text states: \"We welcome applications from mature students. If you are a mature student and have questions about your eligibility, we encourage you to read our guidance for mature students before applying.\"\\n\\nAs an adult learner returning to education, it seems that your application would be considered. However, I would recommend checking the UCL website or contacting Undergraduate Admissions (as mentioned in Context 2) to confirm this.\\n\\nRegarding additional information or documentation required as part of your application, Context 3 doesn\\'t explicitly state what specific requirements are needed for mature students. However, it\\'s likely that you would need to provide evidence of your academic and professional background, as well as any relevant work experience or qualifications.\\n\\nTo answer your question:\\n\\nYes, UCL considers applications from mature students like yourself. As part of your application, you may be required to provide additional information or documentation related to your academic and professional background, as well as any relevant work experience or qualifications. I recommend checking the UCL website or contacting Undergraduate Admissions for more specific guidance on what is required. \\n-------\\n']\n"
     ]
    },
    {
     "name": "stderr",
     "output_type": "stream",
     "text": [
      "[ERROR] Expecting value: line 1 column 1 (char 0)\n",
      "[ERROR] Expecting value: line 1 column 1 (char 0)\n"
     ]
    },
    {
     "name": "stdout",
     "output_type": "stream",
     "text": [
      "Done\n"
     ]
    }
   ],
   "source": [
    "\n",
    "path_to_enquiries = \"../../dataset\"\n",
    "\n",
    "counter = 0\n",
    "results_folder = \"./results\"\n",
    "os.makedirs(results_folder, exist_ok=True)\n",
    "\n",
    "already_processed = set()\n",
    "for results_file in os.listdir(results_folder):\n",
    "    if results_file.endswith(\".json\"):\n",
    "        already_processed.add(results_file.replace(\"results_\", \"\"))\n",
    "        \n",
    "for enquiry_path in os.listdir(path_to_enquiries):\n",
    "    if enquiry_path in already_processed:\n",
    "        print(f\"Already processed {enquiry_path}\")\n",
    "        continue\n",
    "    if \"fake\" not in enquiry_path and not enquiry_path.endswith(\".json\"):\n",
    "        print(f\"Skipping {enquiry_path}\")\n",
    "        continue\n",
    "      \n",
    "    filepath = os.path.join(results_folder, f\"results_{enquiry_path}\")\n",
    "    results = {}\n",
    "    try:\n",
    "        if not enquiry_path.endswith(\".json\") or not \"fake\" in enquiry_path:\n",
    "            continue\n",
    "        print(f\"Processing {enquiry_path}\")\n",
    "        with open(os.path.join(path_to_enquiries, enquiry_path), \"r\") as f:\n",
    "            enquiry = json.load(f)\n",
    "            \n",
    "        email = enquiry[\"email\"]\n",
    "        if \"subject:\" in email.lower():\n",
    "            subject = email.split(\"\\n\")[0].replace(\"Subject:\", \"\").strip()\n",
    "            body = \"\\n\".join(email.split(\"\\n\")[1:])\n",
    "        else:\n",
    "            subject = \"Subject not found\"\n",
    "            body = email\n",
    "        \n",
    "        email = Email(subject=subject, body=body, id=counter)\n",
    "        counter += 1\n",
    "        \n",
    "        response_single, response_time_single = single_shot_prompt(email)\n",
    "        response_multi, response_time_multi = multi_step_process(email)\n",
    "        \n",
    "        results = {\"single_shot\": {\"response\": response_single, \"response_time\": response_time_single},\n",
    "                    \"multi_step\": {\"response\": response_multi, \"response_time\": response_time_multi}}\n",
    "\n",
    "        with open(filepath, \"w\") as f:\n",
    "            json.dump(results, f)\n",
    "            \n",
    "    except Exception as e:\n",
    "        print(f\"Error processing {enquiry_path}\")\n",
    "        print(e)\n",
    "        continue    \n",
    "\n",
    "print(\"Done\")\n"
   ]
  },
  {
   "cell_type": "code",
   "execution_count": 13,
   "metadata": {},
   "outputs": [],
   "source": [
    "import json as simplejson\n",
    "from random import randint\n",
    "\n",
    "def results_into_markodown():\n",
    "    results_folder = \"./results\"\n",
    "    mardown_folder = \"./markdown\"\n",
    "    os.makedirs(mardown_folder, exist_ok=True)\n",
    "    markdown = \"\"\n",
    "    answer = {}\n",
    "    for results_file in os.listdir(results_folder):\n",
    "        if results_file.endswith(\".json\"):\n",
    "            with open(os.path.join(results_folder, results_file), \"r\") as f:\n",
    "                results = simplejson.load(f)\n",
    "                \n",
    "            random_number = randint(1, 2)\n",
    "            single_shot_response = results['single_shot']['response']['textResponse']\n",
    "            multi_step_response = results['multi_step']['response']['generated_draft_email']\n",
    "            filename = results_file.replace(\"results_\", \"\").replace(\"json\", \"md\")\n",
    "            markdown = f\"# {filename}\\n\\n\"\n",
    "            if random_number == 1:\n",
    "                markdown += f\"## A\\n\\n\"\n",
    "                markdown += f\"{single_shot_response}\\n\\n\"\n",
    "                markdown += f\"## B\\n\\n\"\n",
    "                markdown += f\"{multi_step_response}\\n\\n\"\n",
    "                answer[filename] = {\"A\": 'single_shot_response', \"B\": 'multi_step_response'}\n",
    "            else:\n",
    "                markdown += f\"## A\\n\\n\"\n",
    "                markdown += f\"{multi_step_response}\\n\\n\"\n",
    "                markdown += f\"## B\\n\\n\"\n",
    "                markdown += f\"{single_shot_response}\\n\\n\"\n",
    "                answer[filename] = {\"A\": 'multi_step_response', \"B\": 'single_shot_response'}\n",
    "            \n",
    "            \n",
    "            markdown += \"\\n\\n\"\n",
    "            \n",
    "            with open(os.path.join(mardown_folder, results_file.replace(\"results_\", \"\").replace(\"json\", \"md\")), \"w\") as f:\n",
    "                f.write(markdown)\n",
    "    with open(os.path.join(mardown_folder, \"answers.json\"), \"w\") as f:\n",
    "        simplejson.dump(answer, f)\n",
    "        \n"
   ]
  },
  {
   "cell_type": "code",
   "execution_count": 5,
   "metadata": {},
   "outputs": [
    {
     "name": "stdout",
     "output_type": "stream",
     "text": [
      "Average single shot time: 51.24523681998253\n",
      "Average multi step time: 174.0607920050621\n"
     ]
    }
   ],
   "source": [
    "import json as simplejson\n",
    "\n",
    "def average_time():\n",
    "    results_folder = \"./results\"\n",
    "    total_single_shot = 0\n",
    "    total_multi_step = 0\n",
    "    total = 0\n",
    "    for results_file in os.listdir(results_folder):\n",
    "        if results_file.endswith(\".json\"):\n",
    "            with open(os.path.join(results_folder, results_file), \"r\") as f:\n",
    "                results = simplejson.load(f)\n",
    "            total_single_shot += results['single_shot']['response_time']\n",
    "            total_multi_step += results['multi_step']['response_time']\n",
    "            total += 1\n",
    "    print(f\"Average single shot time: {total_single_shot/total}\")\n",
    "    print(f\"Average multi step time: {total_multi_step/total}\")\n",
    "    \n",
    "average_time()"
   ]
  }
 ],
 "metadata": {
  "kernelspec": {
   "display_name": "venv",
   "language": "python",
   "name": "python3"
  },
  "language_info": {
   "codemirror_mode": {
    "name": "ipython",
    "version": 3
   },
   "file_extension": ".py",
   "mimetype": "text/x-python",
   "name": "python",
   "nbconvert_exporter": "python",
   "pygments_lexer": "ipython3",
   "version": "3.12.3"
  }
 },
 "nbformat": 4,
 "nbformat_minor": 2
}
